import pandas as pd
import numpy as np
import matplotlib.pyplot as plt


!wget https://raw.githubusercontent.com/alexeygrigorev/datasets/master/laptops.csv


!pip install wget






