import pandas as pd
import matplotlib.pyplot as plt
import seaborn as sns
from sklearn.model_selection import train_test_split
from sklearn.linear_model import LinearRegression
from sklearn import metrics

pd.set_option("display.max_columns", None)


data = pd.read_csv("Car details.csv")
df = data.copy()
df.shape


df.head()


df.columns


df.dtypes



