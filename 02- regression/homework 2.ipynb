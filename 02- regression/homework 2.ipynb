{
 "cells": [
  {
   "cell_type": "code",
   "execution_count": 1,
   "id": "e6966bf5-67a5-4b03-bd45-169e53c0ee82",
   "metadata": {},
   "outputs": [],
   "source": [
    "import pandas as pd\n",
    "import numpy as np\n",
    "import matplotlib.pyplot as plt\n",
    "import seaborn as sns\n",
    "\n",
    "%matplotlib inline"
   ]
  },
  {
   "cell_type": "code",
   "execution_count": 2,
   "id": "a1fdb370-d5b3-4b08-b41b-39dfa8a11a16",
   "metadata": {},
   "outputs": [
    {
     "data": {
      "text/html": [
       "<div>\n",
       "<style scoped>\n",
       "    .dataframe tbody tr th:only-of-type {\n",
       "        vertical-align: middle;\n",
       "    }\n",
       "\n",
       "    .dataframe tbody tr th {\n",
       "        vertical-align: top;\n",
       "    }\n",
       "\n",
       "    .dataframe thead th {\n",
       "        text-align: right;\n",
       "    }\n",
       "</style>\n",
       "<table border=\"1\" class=\"dataframe\">\n",
       "  <thead>\n",
       "    <tr style=\"text-align: right;\">\n",
       "      <th></th>\n",
       "      <th>engine_displacement</th>\n",
       "      <th>num_cylinders</th>\n",
       "      <th>horsepower</th>\n",
       "      <th>vehicle_weight</th>\n",
       "      <th>acceleration</th>\n",
       "      <th>model_year</th>\n",
       "      <th>origin</th>\n",
       "      <th>fuel_type</th>\n",
       "      <th>drivetrain</th>\n",
       "      <th>num_doors</th>\n",
       "      <th>fuel_efficiency_mpg</th>\n",
       "    </tr>\n",
       "  </thead>\n",
       "  <tbody>\n",
       "    <tr>\n",
       "      <th>0</th>\n",
       "      <td>170</td>\n",
       "      <td>3.0</td>\n",
       "      <td>159.0</td>\n",
       "      <td>3413.433759</td>\n",
       "      <td>17.7</td>\n",
       "      <td>2003</td>\n",
       "      <td>Europe</td>\n",
       "      <td>Gasoline</td>\n",
       "      <td>All-wheel drive</td>\n",
       "      <td>0.0</td>\n",
       "      <td>13.231729</td>\n",
       "    </tr>\n",
       "    <tr>\n",
       "      <th>1</th>\n",
       "      <td>130</td>\n",
       "      <td>5.0</td>\n",
       "      <td>97.0</td>\n",
       "      <td>3149.664934</td>\n",
       "      <td>17.8</td>\n",
       "      <td>2007</td>\n",
       "      <td>USA</td>\n",
       "      <td>Gasoline</td>\n",
       "      <td>Front-wheel drive</td>\n",
       "      <td>0.0</td>\n",
       "      <td>13.688217</td>\n",
       "    </tr>\n",
       "    <tr>\n",
       "      <th>2</th>\n",
       "      <td>170</td>\n",
       "      <td>NaN</td>\n",
       "      <td>78.0</td>\n",
       "      <td>3079.038997</td>\n",
       "      <td>15.1</td>\n",
       "      <td>2018</td>\n",
       "      <td>Europe</td>\n",
       "      <td>Gasoline</td>\n",
       "      <td>Front-wheel drive</td>\n",
       "      <td>0.0</td>\n",
       "      <td>14.246341</td>\n",
       "    </tr>\n",
       "    <tr>\n",
       "      <th>3</th>\n",
       "      <td>220</td>\n",
       "      <td>4.0</td>\n",
       "      <td>NaN</td>\n",
       "      <td>2542.392402</td>\n",
       "      <td>20.2</td>\n",
       "      <td>2009</td>\n",
       "      <td>USA</td>\n",
       "      <td>Diesel</td>\n",
       "      <td>All-wheel drive</td>\n",
       "      <td>2.0</td>\n",
       "      <td>16.912736</td>\n",
       "    </tr>\n",
       "    <tr>\n",
       "      <th>4</th>\n",
       "      <td>210</td>\n",
       "      <td>1.0</td>\n",
       "      <td>140.0</td>\n",
       "      <td>3460.870990</td>\n",
       "      <td>14.4</td>\n",
       "      <td>2009</td>\n",
       "      <td>Europe</td>\n",
       "      <td>Gasoline</td>\n",
       "      <td>All-wheel drive</td>\n",
       "      <td>2.0</td>\n",
       "      <td>12.488369</td>\n",
       "    </tr>\n",
       "  </tbody>\n",
       "</table>\n",
       "</div>"
      ],
      "text/plain": [
       "   engine_displacement  num_cylinders  horsepower  vehicle_weight  \\\n",
       "0                  170            3.0       159.0     3413.433759   \n",
       "1                  130            5.0        97.0     3149.664934   \n",
       "2                  170            NaN        78.0     3079.038997   \n",
       "3                  220            4.0         NaN     2542.392402   \n",
       "4                  210            1.0       140.0     3460.870990   \n",
       "\n",
       "   acceleration  model_year  origin fuel_type         drivetrain  num_doors  \\\n",
       "0          17.7        2003  Europe  Gasoline    All-wheel drive        0.0   \n",
       "1          17.8        2007     USA  Gasoline  Front-wheel drive        0.0   \n",
       "2          15.1        2018  Europe  Gasoline  Front-wheel drive        0.0   \n",
       "3          20.2        2009     USA    Diesel    All-wheel drive        2.0   \n",
       "4          14.4        2009  Europe  Gasoline    All-wheel drive        2.0   \n",
       "\n",
       "   fuel_efficiency_mpg  \n",
       "0            13.231729  \n",
       "1            13.688217  \n",
       "2            14.246341  \n",
       "3            16.912736  \n",
       "4            12.488369  "
      ]
     },
     "execution_count": 2,
     "metadata": {},
     "output_type": "execute_result"
    }
   ],
   "source": [
    "url = \"https://raw.githubusercontent.com/alexeygrigorev/datasets/master/car_fuel_efficiency.csv\"\n",
    "\n",
    "data = pd.read_csv(url)\n",
    "data.head()"
   ]
  },
  {
   "cell_type": "markdown",
   "id": "2edc0881-4a1b-458b-8269-5099c8895f62",
   "metadata": {},
   "source": [
    "# Preparing the dataset"
   ]
  },
  {
   "cell_type": "code",
   "execution_count": 3,
   "id": "0be8cfca-97e7-4171-8001-2c62e16dbb00",
   "metadata": {},
   "outputs": [
    {
     "data": {
      "text/plain": [
       "engine_displacement      int64\n",
       "num_cylinders          float64\n",
       "horsepower             float64\n",
       "vehicle_weight         float64\n",
       "acceleration           float64\n",
       "model_year               int64\n",
       "origin                  object\n",
       "fuel_type               object\n",
       "drivetrain              object\n",
       "num_doors              float64\n",
       "fuel_efficiency_mpg    float64\n",
       "dtype: object"
      ]
     },
     "execution_count": 3,
     "metadata": {},
     "output_type": "execute_result"
    }
   ],
   "source": [
    "data.dtypes"
   ]
  },
  {
   "cell_type": "code",
   "execution_count": 4,
   "id": "81e25332-c88f-43a2-9aa0-4c370a903c84",
   "metadata": {},
   "outputs": [
    {
     "data": {
      "text/html": [
       "<div>\n",
       "<style scoped>\n",
       "    .dataframe tbody tr th:only-of-type {\n",
       "        vertical-align: middle;\n",
       "    }\n",
       "\n",
       "    .dataframe tbody tr th {\n",
       "        vertical-align: top;\n",
       "    }\n",
       "\n",
       "    .dataframe thead th {\n",
       "        text-align: right;\n",
       "    }\n",
       "</style>\n",
       "<table border=\"1\" class=\"dataframe\">\n",
       "  <thead>\n",
       "    <tr style=\"text-align: right;\">\n",
       "      <th></th>\n",
       "      <th>engine_displacement</th>\n",
       "      <th>horsepower</th>\n",
       "      <th>vehicle_weight</th>\n",
       "      <th>model_year</th>\n",
       "      <th>fuel_efficiency_mpg</th>\n",
       "    </tr>\n",
       "  </thead>\n",
       "  <tbody>\n",
       "    <tr>\n",
       "      <th>0</th>\n",
       "      <td>170</td>\n",
       "      <td>159.0</td>\n",
       "      <td>3413.433759</td>\n",
       "      <td>2003</td>\n",
       "      <td>13.231729</td>\n",
       "    </tr>\n",
       "    <tr>\n",
       "      <th>1</th>\n",
       "      <td>130</td>\n",
       "      <td>97.0</td>\n",
       "      <td>3149.664934</td>\n",
       "      <td>2007</td>\n",
       "      <td>13.688217</td>\n",
       "    </tr>\n",
       "    <tr>\n",
       "      <th>2</th>\n",
       "      <td>170</td>\n",
       "      <td>78.0</td>\n",
       "      <td>3079.038997</td>\n",
       "      <td>2018</td>\n",
       "      <td>14.246341</td>\n",
       "    </tr>\n",
       "    <tr>\n",
       "      <th>3</th>\n",
       "      <td>220</td>\n",
       "      <td>NaN</td>\n",
       "      <td>2542.392402</td>\n",
       "      <td>2009</td>\n",
       "      <td>16.912736</td>\n",
       "    </tr>\n",
       "    <tr>\n",
       "      <th>4</th>\n",
       "      <td>210</td>\n",
       "      <td>140.0</td>\n",
       "      <td>3460.870990</td>\n",
       "      <td>2009</td>\n",
       "      <td>12.488369</td>\n",
       "    </tr>\n",
       "  </tbody>\n",
       "</table>\n",
       "</div>"
      ],
      "text/plain": [
       "   engine_displacement  horsepower  vehicle_weight  model_year  \\\n",
       "0                  170       159.0     3413.433759        2003   \n",
       "1                  130        97.0     3149.664934        2007   \n",
       "2                  170        78.0     3079.038997        2018   \n",
       "3                  220         NaN     2542.392402        2009   \n",
       "4                  210       140.0     3460.870990        2009   \n",
       "\n",
       "   fuel_efficiency_mpg  \n",
       "0            13.231729  \n",
       "1            13.688217  \n",
       "2            14.246341  \n",
       "3            16.912736  \n",
       "4            12.488369  "
      ]
     },
     "execution_count": 4,
     "metadata": {},
     "output_type": "execute_result"
    }
   ],
   "source": [
    "to_use_cols = [ 'engine_displacement',\n",
    "                'horsepower',\n",
    "                'vehicle_weight',\n",
    "                'model_year',\n",
    "                'fuel_efficiency_mpg']\n",
    "\n",
    "df = data[to_use_cols].copy()\n",
    "df.head()"
   ]
  },
  {
   "cell_type": "markdown",
   "id": "25d8b55e-eb7f-40d4-8675-1be891f029ef",
   "metadata": {},
   "source": [
    "# EDA"
   ]
  },
  {
   "cell_type": "code",
   "execution_count": 9,
   "id": "6873bc00-c3c2-4c83-9681-236ee136deba",
   "metadata": {},
   "outputs": [
    {
     "data": {
      "image/png": "[encoded data removed]",
      "text/plain": [
       "<Figure size 640x480 with 1 Axes>"
      ]
     },
     "metadata": {},
     "output_type": "display_data"
    }
   ],
   "source": [
    "sns.histplot(df.fuel_efficiency_mpg, bins=50, color=\"red\")\n",
    "\n",
    "plt.show()"
   ]
  },
  {
   "cell_type": "markdown",
   "id": "95801cfb-87e8-4061-b96c-d8efe519cb0e",
   "metadata": {},
   "source": [
    "### The data doesn't have a long tail. Then no need to use the log-transformation."
   ]
  },
  {
   "cell_type": "markdown",
   "id": "c0fbcabf-11bf-4320-b214-351de3eb351d",
   "metadata": {},
   "source": [
    "## Question 1"
   ]
  },
  {
   "cell_type": "code",
   "execution_count": 11,
   "id": "da574f45-1106-43c7-8360-2c95ac2687b1",
   "metadata": {},
   "outputs": [
    {
     "data": {
      "text/plain": [
       "engine_displacement      0\n",
       "horsepower             708\n",
       "vehicle_weight           0\n",
       "model_year               0\n",
       "fuel_efficiency_mpg      0\n",
       "dtype: int64"
      ]
     },
     "execution_count": 11,
     "metadata": {},
     "output_type": "execute_result"
    }
   ],
   "source": [
    "df.isnull().sum()"
   ]
  },
  {
   "cell_type": "code",
   "execution_count": 17,
   "id": "bfeec607-362d-43e1-b9ea-aa7959693118",
   "metadata": {},
   "outputs": [
    {
     "data": {
      "text/plain": [
       "'horsepower'"
      ]
     },
     "execution_count": 17,
     "metadata": {},
     "output_type": "execute_result"
    }
   ],
   "source": [
    "missing_value_col = df.columns[df.isnull().any()][0]\n",
    "missing_value_col"
   ]
  },
  {
   "cell_type": "markdown",
   "id": "da7bc448-5748-407b-ab36-3c6a552f8103",
   "metadata": {},
   "source": [
    "### Question 2"
   ]
  },
  {
   "cell_type": "code",
   "execution_count": 18,
   "id": "b908e227-e84f-4dbf-8cdb-3eaa9d6bd739",
   "metadata": {},
   "outputs": [
    {
     "data": {
      "text/plain": [
       "149.0"
      ]
     },
     "execution_count": 18,
     "metadata": {},
     "output_type": "execute_result"
    }
   ],
   "source": [
    "df[missing_value_col].median()"
   ]
  },
  {
   "cell_type": "markdown",
   "id": "74c9e390-8920-4320-8d52-b8a843b80ca9",
   "metadata": {},
   "source": [
    "### Question 3"
   ]
  },
  {
   "cell_type": "markdown",
   "id": "d350fcb5-a526-401c-8bce-0d5a2927c0ca",
   "metadata": {},
   "source": [
    "### RMSE (filling the missing values of 'screen' with 0s vs. with the mean value) \"without regularization\""
   ]
  },
  {
   "cell_type": "code",
   "execution_count": 43,
   "id": "6327a57a-10fe-4700-b2ff-3b7656b2e979",
   "metadata": {},
   "outputs": [
    {
     "data": {
      "text/plain": [
       "engine_displacement      0\n",
       "horsepower             429\n",
       "vehicle_weight           0\n",
       "model_year               0\n",
       "dtype: int64"
      ]
     },
     "execution_count": 43,
     "metadata": {},
     "output_type": "execute_result"
    }
   ],
   "source": [
    "df_train.isnull().sum()"
   ]
  },
  {
   "cell_type": "code",
   "execution_count": 44,
   "id": "2ea1dd4a-d627-4078-bfb9-4758e0fe38e2",
   "metadata": {},
   "outputs": [
    {
     "name": "stdout",
     "output_type": "stream",
     "text": [
      "      engine_displacement  horsepower  vehicle_weight  model_year\n",
      "19                    300         NaN     3217.664208        2000\n",
      "29                    200         NaN     3090.672180        2007\n",
      "32                    270         NaN     2819.061307        2016\n",
      "50                    240         NaN     3736.177808        2018\n",
      "80                    230         NaN     2406.413778        2001\n",
      "...                   ...         ...             ...         ...\n",
      "5747                  230         NaN     3640.729992        2016\n",
      "5753                  230         NaN     3166.382689        2021\n",
      "5758                  170         NaN     3202.990193        2000\n",
      "5789                  230         NaN     2925.660208        2012\n",
      "5815                  220         NaN     3561.727026        2019\n",
      "\n",
      "[429 rows x 4 columns]\n"
     ]
    }
   ],
   "source": [
    "rows_with_missing_values = df_train[df_train.isnull().any(axis=1)]\n",
    "print(rows_with_missing_values)\n",
    "indexes_of_rows_with_missing_values = rows_with_missing_values.index.tolist()"
   ]
  },
  {
   "cell_type": "code",
   "execution_count": 48,
   "id": "7ed775a8-24d8-4955-be98-00ce1b30d12f",
   "metadata": {},
   "outputs": [
    {
     "name": "stdout",
     "output_type": "stream",
     "text": [
      "Rows with missing values after filling them:\n",
      "[[ 300.            0.         3217.66420834 2000.        ]\n",
      " [ 200.            0.         3090.67218021 2007.        ]\n",
      " [ 270.            0.         2819.06130695 2016.        ]\n",
      " ...\n",
      " [ 170.            0.         3202.99019272 2000.        ]\n",
      " [ 230.            0.         2925.66020776 2012.        ]\n",
      " [ 220.            0.         3561.72702597 2019.        ]]\n"
     ]
    }
   ],
   "source": [
    "def prepare_X(df):\n",
    "    df_num = df.copy()\n",
    "    return df_num.fillna(0).values\n",
    "\n",
    "X_train = prepare_X(df_train)\n",
    "\n",
    "print(\"Rows with missing values after filling them:\")\n",
    "print(X_train[indexes_of_rows_with_missing_values])\n"
   ]
  },
  {
   "cell_type": "code",
   "execution_count": 49,
   "id": "9702fb79-75f9-4e10-ad2d-6b616d5dcfc3",
   "metadata": {},
   "outputs": [
    {
     "name": "stdout",
     "output_type": "stream",
     "text": [
      "\n",
      "RMSE: 0.52\n"
     ]
    }
   ],
   "source": [
    "w0, w = train_linear_regression(X_train, y_train)\n",
    "\n",
    "X_val = prepare_X(df_val)\n",
    "y_pred = w0 + X_val.dot(w)\n",
    "\n",
    "rmse_with_zero = round(rmse(y_val, y_pred), 2).item()\n",
    "print(f\"\\nRMSE: {rmse_with_zero}\")"
   ]
  },
  {
   "cell_type": "markdown",
   "id": "823ffaee-6af6-422a-9338-cab49031dd9d",
   "metadata": {},
   "source": [
    "### 02. filling missing values with the mean"
   ]
  },
  {
   "cell_type": "code",
   "execution_count": 50,
   "id": "6d61e0c2-a531-4cf3-9992-18cfaa83c3a2",
   "metadata": {},
   "outputs": [
    {
     "name": "stdout",
     "output_type": "stream",
     "text": [
      "Rows with missing values after filling them:\n",
      "[[ 300.           14.98524323 3217.66420834 2000.        ]\n",
      " [ 200.           14.98524323 3090.67218021 2007.        ]\n",
      " [ 270.           14.98524323 2819.06130695 2016.        ]\n",
      " ...\n",
      " [ 170.           14.98524323 3202.99019272 2000.        ]\n",
      " [ 230.           14.98524323 2925.66020776 2012.        ]\n",
      " [ 220.           14.98524323 3561.72702597 2019.        ]]\n"
     ]
    }
   ],
   "source": [
    "# need to change attributes: X_train_mean, X_val_mean\n",
    "fuel_efficiency_mpg_mean = df['fuel_efficiency_mpg'].mean()\n",
    "\n",
    "def prepare_X_mean(df):\n",
    "    df_num = df.copy()\n",
    "    return df_num.fillna(fuel_efficiency_mpg_mean).values\n",
    "\n",
    "X_train_mean = prepare_X_mean(df_train)\n",
    "print(\"Rows with missing values after filling them:\")\n",
    "print(X_train_mean[indexes_of_rows_with_missing_values])"
   ]
  },
  {
   "cell_type": "code",
   "execution_count": 51,
   "id": "60b34547-a9e1-44d7-bd88-74ba1b66a710",
   "metadata": {},
   "outputs": [
    {
     "name": "stdout",
     "output_type": "stream",
     "text": [
      "\n",
      "RMSE: 0.51\n"
     ]
    }
   ],
   "source": [
    "w0_mean, w_mean = train_linear_regression(X_train_mean, y_train)\n",
    "X_val_mean = prepare_X_mean(df_val)\n",
    "\n",
    "y_pred_mean = w0_mean + X_val_mean.dot(w_mean)\n",
    "\n",
    "rmse_with_mean = round(rmse(y_val, y_pred_mean), 2).item()\n",
    "print(f\"\\nRMSE: {rmse_with_mean}\")"
   ]
  },
  {
   "cell_type": "code",
   "execution_count": 52,
   "id": "515879dd-68d7-45c3-88c5-3873c4fd5f15",
   "metadata": {},
   "outputs": [
    {
     "name": "stdout",
     "output_type": "stream",
     "text": [
      "With mean gives better results.\n"
     ]
    }
   ],
   "source": [
    "if rmse_with_zero < rmse_with_mean:\n",
    "    print(\"With 0 gives better results.\")\n",
    "elif rmse_with_zero > rmse_with_mean:\n",
    "    print(\"With mean gives better results.\")   \n",
    "else:\n",
    "    print(\"Both are equally good.\")    "
   ]
  },
  {
   "cell_type": "markdown",
   "id": "74dade88-3cbf-44bb-8431-62f52a387833",
   "metadata": {},
   "source": [
    "### Question 4"
   ]
  },
  {
   "cell_type": "code",
   "execution_count": 53,
   "id": "c9d29f50-2cb2-4d45-ae4f-6319ed76e377",
   "metadata": {},
   "outputs": [],
   "source": [
    "def train_linear_regression_reg(X, y, r):\n",
    "    ones = np.ones(X.shape[0])\n",
    "    X = np.column_stack([ones, X])\n",
    "\n",
    "    XTX = X.T.dot(X)\n",
    "    XTX = XTX + r * np.eye(XTX.shape[0])\n",
    "\n",
    "    XTX_inv = np.linalg.inv(XTX)\n",
    "    w_full = XTX_inv.dot(X.T).dot(y)\n",
    "    \n",
    "    return w_full[0], w_full[1:]"
   ]
  },
  {
   "cell_type": "code",
   "execution_count": 54,
   "id": "c72eea04-2290-4bc4-af69-584004b94b51",
   "metadata": {},
   "outputs": [
    {
     "name": "stdout",
     "output_type": "stream",
     "text": [
      "Rows with missing values after filling them:\n",
      "[[ 300.            0.         3217.66420834 2000.        ]\n",
      " [ 200.            0.         3090.67218021 2007.        ]\n",
      " [ 270.            0.         2819.06130695 2016.        ]\n",
      " ...\n",
      " [ 170.            0.         3202.99019272 2000.        ]\n",
      " [ 230.            0.         2925.66020776 2012.        ]\n",
      " [ 220.            0.         3561.72702597 2019.        ]]\n"
     ]
    }
   ],
   "source": [
    "X_train_reg = prepare_X(df_train)\n",
    "print(\"Rows with missing values after filling them:\")\n",
    "print(X_train_reg[indexes_of_rows_with_missing_values])"
   ]
  },
  {
   "cell_type": "code",
   "execution_count": 55,
   "id": "5e9dd3fd-dc32-410c-a0f7-2b47dc328a33",
   "metadata": {},
   "outputs": [
    {
     "name": "stdout",
     "output_type": "stream",
     "text": [
      "\n",
      "RMSE: 0.51 For value of r = 0.001\n"
     ]
    }
   ],
   "source": [
    "r_used = 0.001\n",
    "\n",
    "w0_reg, w_reg = train_linear_regression_reg(X_train_reg, y_train, r_used)\n",
    "X_val_reg = prepare_X(df_val)\n",
    "\n",
    "y_pred_reg = w0_reg + X_val_reg.dot(w_reg)\n",
    "\n",
    "rmse_with_reg = round(rmse(y_val, y_pred_reg), 2).item()\n",
    "print(f\"\\nRMSE: {rmse_with_mean} For value of r = {r_used}\")"
   ]
  },
  {
   "cell_type": "code",
   "execution_count": 56,
   "id": "e1915ce8-534b-40f0-9a84-4f16fe209ac1",
   "metadata": {},
   "outputs": [
    {
     "name": "stdout",
     "output_type": "stream",
     "text": [
      "\n",
      "RMSE: 0.52 For value of r = 0\n",
      "\n",
      "RMSE: 0.52 For value of r = 0.01\n",
      "\n",
      "RMSE: 0.52 For value of r = 0.1\n",
      "\n",
      "RMSE: 0.52 For value of r = 1\n",
      "\n",
      "RMSE: 0.52 For value of r = 10\n",
      "\n",
      "RMSE: 0.52 For value of r = 100\n",
      "\n",
      "The smallest RMSE value = 0.52\n"
     ]
    }
   ],
   "source": [
    "X_train_reg = prepare_X(df_train)\n",
    "X_val_reg = prepare_X(df_val)\n",
    "\n",
    "r_list = [0, 0.01, 0.1, 1,  10, 100]\n",
    "scores = []\n",
    "\n",
    "for r in r_list:\n",
    "\n",
    "    w0_reg, w_reg = train_linear_regression_reg(X_train_reg, y_train, r)\n",
    "    \n",
    "    y_pred_reg = w0_reg + X_val_reg.dot(w_reg)\n",
    "    \n",
    "    rmse_with_reg = round(rmse(y_val, y_pred_reg), 2).item()\n",
    "\n",
    "    scores.append(rmse_with_reg)\n",
    "    print(f\"\\nRMSE: {rmse_with_reg} For value of r = {r}\")\n",
    "\n",
    "print(f\"\\nThe smallest RMSE value = {min(scores)}\")"
   ]
  },
  {
   "cell_type": "code",
   "execution_count": 57,
   "id": "95687f34-75ab-4785-8328-762758be02ec",
   "metadata": {},
   "outputs": [
    {
     "data": {
      "text/plain": [
       "r        0.00\n",
       "score    0.52\n",
       "Name: 0, dtype: float64"
      ]
     },
     "execution_count": 57,
     "metadata": {},
     "output_type": "execute_result"
    }
   ],
   "source": [
    "r_num = np.array(r_list)\n",
    "scores_num = np.array(scores)\n",
    "\n",
    "scores_df = pd.DataFrame({\"r\": r_num, \"score\" : scores_num})\n",
    "scores_df.loc[scores_df[\"score\"].idxmin()]  "
   ]
  },
  {
   "cell_type": "markdown",
   "id": "411bf5e8-8418-46c2-a10d-42c4f8ca2cba",
   "metadata": {},
   "source": [
    "### Question 5"
   ]
  },
  {
   "cell_type": "code",
   "execution_count": 60,
   "id": "89740156-fd14-49a9-b41f-1ce54364e69a",
   "metadata": {},
   "outputs": [],
   "source": [
    "def prepare_data(df, s):\n",
    "\n",
    "    n = len(df)\n",
    "\n",
    "    n_val = int(0.2 * n)\n",
    "    n_test = int(0.2 * n)\n",
    "    n_train = n - n_val - n_test\n",
    "    \n",
    "    idx = np.arange(n)\n",
    "    np.random.seed(s)\n",
    "    np.random.shuffle(idx)\n",
    "    \n",
    "    df_train = df.iloc[idx[:n_train]]\n",
    "    df_val = df.iloc[idx[n_train:n_train+n_val]]\n",
    "    df_test = df.iloc[idx[n_train+n_val:]]\n",
    "    \n",
    "    df_train = df_train.reset_index(drop=True)\n",
    "    df_val = df_val.reset_index(drop=True)\n",
    "    df_test = df_test.reset_index(drop=True)\n",
    "    \n",
    "    y_train = df_train.fuel_efficiency_mpg.values\n",
    "    y_val = df_val.fuel_efficiency_mpg.values\n",
    "    y_test = df_test.fuel_efficiency_mpg.values\n",
    "\n",
    "    del df_train['fuel_efficiency_mpg']\n",
    "    del df_val['fuel_efficiency_mpg']\n",
    "    del df_test['fuel_efficiency_mpg']\n",
    "\n",
    "\n",
    "    return df_train, df_val, df_test, y_train, y_val, y_test"
   ]
  },
  {
   "cell_type": "code",
   "execution_count": 63,
   "id": "5a21b9a4-411d-445e-8253-a5396aafe97b",
   "metadata": {},
   "outputs": [
    {
     "name": "stdout",
     "output_type": "stream",
     "text": [
      "\n",
      "RMSE: 0.5206531296282488\n",
      "\n",
      "RMSE: 0.5213388912852449\n",
      "\n",
      "RMSE: 0.5228069974790948\n",
      "\n",
      "RMSE: 0.5159516741126557\n",
      "\n",
      "RMSE: 0.5109129460051677\n",
      "\n",
      "RMSE: 0.528340646010539\n",
      "\n",
      "RMSE: 0.5313910658196378\n",
      "\n",
      "RMSE: 0.5090670387410288\n",
      "\n",
      "RMSE: 0.5147399129519309\n",
      "\n",
      "RMSE: 0.5131865908214442\n"
     ]
    }
   ],
   "source": [
    "seeds = [0, 1, 2, 3, 4, 5, 6, 7, 8, 9]\n",
    "scores_seed = []\n",
    "\n",
    "for seed in seeds:\n",
    "    df_train_seed, df_val_seed, df_test_seed, y_train_seed, y_val_seed, y_test_seed = prepare_data(df, s=seed)\n",
    "    \n",
    "    X_train_seed = prepare_X(df_train_seed)\n",
    "    X_val_seed = prepare_X(df_val_seed)\n",
    "    \n",
    "    w0_seed, w_seed = train_linear_regression(X_train_seed, y_train_seed)\n",
    "    \n",
    "    y_pred_seed = w0_seed + X_val_seed.dot(w_seed)\n",
    "    \n",
    "    rmse_with_diff_seed = rmse(y_val_seed, y_pred_seed)\n",
    "\n",
    "    scores_seed.append(rmse_with_diff_seed)\n",
    "    print(f\"\\nRMSE: {rmse_with_diff_seed}\")"
   ]
  },
  {
   "cell_type": "code",
   "execution_count": 68,
   "id": "9f39e0ac-e76a-4e36-974a-4d0a8cd115a1",
   "metadata": {},
   "outputs": [
    {
     "data": {
      "text/plain": [
       "0"
      ]
     },
     "execution_count": 68,
     "metadata": {},
     "output_type": "execute_result"
    }
   ],
   "source": [
    "import math\n",
    "scores_seed_num = np.array(scores_seed)\n",
    "\n",
    "math.floor(scores_seed_num.std())"
   ]
  },
  {
   "cell_type": "markdown",
   "id": "ba4c3a9b-5cd4-433b-91d1-d5c32b55e0aa",
   "metadata": {},
   "source": [
    "### Question 6"
   ]
  },
  {
   "cell_type": "code",
   "execution_count": 31,
   "id": "346e809b-d0ae-4b7a-9dd6-029092bba9ac",
   "metadata": {},
   "outputs": [],
   "source": [
    "df_train_6, df_val_6, df_test_6, y_train_6, y_val_6, y_test_6 = prepare_data(df, s=9)"
   ]
  },
  {
   "cell_type": "code",
   "execution_count": 34,
   "id": "692e28d8-7058-42d4-9ec9-8ebe5487604c",
   "metadata": {},
   "outputs": [],
   "source": [
    "def train_linear_regression_reg(X, y, r):\n",
    "    ones = np.ones(X.shape[0])\n",
    "    X = np.column_stack([ones, X])\n",
    "\n",
    "    XTX = X.T.dot(X)\n",
    "    XTX = XTX + r * np.eye(XTX.shape[0])\n",
    "\n",
    "    XTX_inv = np.linalg.inv(XTX)\n",
    "    w_full = XTX_inv.dot(X.T).dot(y)\n",
    "    \n",
    "    return w_full[0], w_full[1:]"
   ]
  },
  {
   "cell_type": "code",
   "execution_count": 37,
   "id": "9ea848c5-7f90-4bc0-9b61-90afacc52795",
   "metadata": {},
   "outputs": [
    {
     "data": {
      "text/plain": [
       "0.5156"
      ]
     },
     "execution_count": 37,
     "metadata": {},
     "output_type": "execute_result"
    }
   ],
   "source": [
    "df_train_val_full = pd.concat([df_train_6, df_val_6], axis=0)\n",
    "y_train_val_full = np.concatenate((y_train_6, y_val_6))\n",
    "\n",
    "df_train_val_full = df_train_val_full.reset_index(drop=True)\n",
    "\n",
    "X_train_val_full = prepare_X_zeros(df_train_val_full)\n",
    "X_test = prepare_X_zeros(df_test_6)\n",
    "\n",
    "w0_6, w_6 = train_linear_regression_reg(X_train_val_full, y_train_val_full, r=0.001)\n",
    "\n",
    "y_pred_6 = w0_6 + X_test.dot(w_6)\n",
    "\n",
    "rmse_with_diff_seed = round(rmse(y_test_6, y_pred_6), 4).item()\n",
    "\n",
    "rmse_with_diff_seed"
   ]
  },
  {
   "cell_type": "code",
   "execution_count": null,
   "id": "54b95f42-1e97-45a8-bb8c-9ec41bbee168",
   "metadata": {},
   "outputs": [],
   "source": []
  }
 ],
 "metadata": {
  "kernelspec": {
   "display_name": "Python 3 (ipykernel)",
   "language": "python",
   "name": "python3"
  },
  "language_info": {
   "codemirror_mode": {
    "name": "ipython",
    "version": 3
   },
   "file_extension": ".py",
   "mimetype": "text/x-python",
   "name": "python",
   "nbconvert_exporter": "python",
   "pygments_lexer": "ipython3",
   "version": "3.12.7"
  }
 },
 "nbformat": 4,
 "nbformat_minor": 5
}
