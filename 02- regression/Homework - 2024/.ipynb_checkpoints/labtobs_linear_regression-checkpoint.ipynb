{
 "cells": [
  {
   "cell_type": "code",
   "execution_count": 2,
   "id": "5446abba-1afc-4743-a7c7-7501d1364602",
   "metadata": {},
   "outputs": [],
   "source": [
    "import pandas as pd\n",
    "import numpy as np"
   ]
  },
  {
   "cell_type": "code",
   "execution_count": 3,
   "id": "f4538fea-9620-41a6-a0bd-2c6e26dcd1a5",
   "metadata": {},
   "outputs": [
    {
     "data": {
      "text/html": [
       "<div>\n",
       "<style scoped>\n",
       "    .dataframe tbody tr th:only-of-type {\n",
       "        vertical-align: middle;\n",
       "    }\n",
       "\n",
       "    .dataframe tbody tr th {\n",
       "        vertical-align: top;\n",
       "    }\n",
       "\n",
       "    .dataframe thead th {\n",
       "        text-align: right;\n",
       "    }\n",
       "</style>\n",
       "<table border=\"1\" class=\"dataframe\">\n",
       "  <thead>\n",
       "    <tr style=\"text-align: right;\">\n",
       "      <th></th>\n",
       "      <th>Laptop</th>\n",
       "      <th>Status</th>\n",
       "      <th>Brand</th>\n",
       "      <th>Model</th>\n",
       "      <th>CPU</th>\n",
       "      <th>RAM</th>\n",
       "      <th>Storage</th>\n",
       "      <th>Storage type</th>\n",
       "      <th>GPU</th>\n",
       "      <th>Screen</th>\n",
       "      <th>Touch</th>\n",
       "      <th>Final Price</th>\n",
       "    </tr>\n",
       "  </thead>\n",
       "  <tbody>\n",
       "    <tr>\n",
       "      <th>0</th>\n",
       "      <td>ASUS ExpertBook B1 B1502CBA-EJ0436X Intel Core...</td>\n",
       "      <td>New</td>\n",
       "      <td>Asus</td>\n",
       "      <td>ExpertBook</td>\n",
       "      <td>Intel Core i5</td>\n",
       "      <td>8</td>\n",
       "      <td>512</td>\n",
       "      <td>SSD</td>\n",
       "      <td>NaN</td>\n",
       "      <td>15.6</td>\n",
       "      <td>No</td>\n",
       "      <td>1009.00</td>\n",
       "    </tr>\n",
       "    <tr>\n",
       "      <th>1</th>\n",
       "      <td>Alurin Go Start Intel Celeron N4020/8GB/256GB ...</td>\n",
       "      <td>New</td>\n",
       "      <td>Alurin</td>\n",
       "      <td>Go</td>\n",
       "      <td>Intel Celeron</td>\n",
       "      <td>8</td>\n",
       "      <td>256</td>\n",
       "      <td>SSD</td>\n",
       "      <td>NaN</td>\n",
       "      <td>15.6</td>\n",
       "      <td>No</td>\n",
       "      <td>299.00</td>\n",
       "    </tr>\n",
       "    <tr>\n",
       "      <th>2</th>\n",
       "      <td>ASUS ExpertBook B1 B1502CBA-EJ0424X Intel Core...</td>\n",
       "      <td>New</td>\n",
       "      <td>Asus</td>\n",
       "      <td>ExpertBook</td>\n",
       "      <td>Intel Core i3</td>\n",
       "      <td>8</td>\n",
       "      <td>256</td>\n",
       "      <td>SSD</td>\n",
       "      <td>NaN</td>\n",
       "      <td>15.6</td>\n",
       "      <td>No</td>\n",
       "      <td>789.00</td>\n",
       "    </tr>\n",
       "    <tr>\n",
       "      <th>3</th>\n",
       "      <td>MSI Katana GF66 12UC-082XES Intel Core i7-1270...</td>\n",
       "      <td>New</td>\n",
       "      <td>MSI</td>\n",
       "      <td>Katana</td>\n",
       "      <td>Intel Core i7</td>\n",
       "      <td>16</td>\n",
       "      <td>1000</td>\n",
       "      <td>SSD</td>\n",
       "      <td>RTX 3050</td>\n",
       "      <td>15.6</td>\n",
       "      <td>No</td>\n",
       "      <td>1199.00</td>\n",
       "    </tr>\n",
       "    <tr>\n",
       "      <th>4</th>\n",
       "      <td>HP 15S-FQ5085NS Intel Core i5-1235U/16GB/512GB...</td>\n",
       "      <td>New</td>\n",
       "      <td>HP</td>\n",
       "      <td>15S</td>\n",
       "      <td>Intel Core i5</td>\n",
       "      <td>16</td>\n",
       "      <td>512</td>\n",
       "      <td>SSD</td>\n",
       "      <td>NaN</td>\n",
       "      <td>15.6</td>\n",
       "      <td>No</td>\n",
       "      <td>669.01</td>\n",
       "    </tr>\n",
       "  </tbody>\n",
       "</table>\n",
       "</div>"
      ],
      "text/plain": [
       "                                              Laptop Status   Brand  \\\n",
       "0  ASUS ExpertBook B1 B1502CBA-EJ0436X Intel Core...    New    Asus   \n",
       "1  Alurin Go Start Intel Celeron N4020/8GB/256GB ...    New  Alurin   \n",
       "2  ASUS ExpertBook B1 B1502CBA-EJ0424X Intel Core...    New    Asus   \n",
       "3  MSI Katana GF66 12UC-082XES Intel Core i7-1270...    New     MSI   \n",
       "4  HP 15S-FQ5085NS Intel Core i5-1235U/16GB/512GB...    New      HP   \n",
       "\n",
       "        Model            CPU  RAM  Storage Storage type       GPU  Screen  \\\n",
       "0  ExpertBook  Intel Core i5    8      512          SSD       NaN    15.6   \n",
       "1          Go  Intel Celeron    8      256          SSD       NaN    15.6   \n",
       "2  ExpertBook  Intel Core i3    8      256          SSD       NaN    15.6   \n",
       "3      Katana  Intel Core i7   16     1000          SSD  RTX 3050    15.6   \n",
       "4         15S  Intel Core i5   16      512          SSD       NaN    15.6   \n",
       "\n",
       "  Touch  Final Price  \n",
       "0    No      1009.00  \n",
       "1    No       299.00  \n",
       "2    No       789.00  \n",
       "3    No      1199.00  \n",
       "4    No       669.01  "
      ]
     },
     "execution_count": 3,
     "metadata": {},
     "output_type": "execute_result"
    }
   ],
   "source": [
    "url =  \"https://raw.githubusercontent.com/alexeygrigorev/datasets/master/laptops.csv\"\n",
    "\n",
    "data = pd.read_csv(url)\n",
    "\n",
    "data.head()"
   ]
  },
  {
   "cell_type": "code",
   "execution_count": 4,
   "id": "d730c6d3-31f5-4218-bda5-70c9f666c23b",
   "metadata": {},
   "outputs": [
    {
     "data": {
      "text/plain": [
       "Laptop           object\n",
       "Status           object\n",
       "Brand            object\n",
       "Model            object\n",
       "CPU              object\n",
       "RAM               int64\n",
       "Storage           int64\n",
       "Storage type     object\n",
       "GPU              object\n",
       "Screen          float64\n",
       "Touch            object\n",
       "Final Price     float64\n",
       "dtype: object"
      ]
     },
     "execution_count": 4,
     "metadata": {},
     "output_type": "execute_result"
    }
   ],
   "source": [
    "data.dtypes"
   ]
  },
  {
   "cell_type": "code",
   "execution_count": 5,
   "id": "ad372ed2-fc51-4d83-a4d3-b1fe11437836",
   "metadata": {},
   "outputs": [
    {
     "name": "stdout",
     "output_type": "stream",
     "text": [
      "Index(['laptop', 'status', 'brand', 'model', 'cpu', 'storage_type', 'gpu',\n",
      "       'touch'],\n",
      "      dtype='object') \n",
      "\n",
      "[dtype('O') dtype('O') dtype('O') dtype('O') dtype('O') dtype('O')\n",
      " dtype('O') dtype('O')]\n"
     ]
    }
   ],
   "source": [
    "df = data.copy()\n",
    "df.columns = df.columns.str.lower().str.replace(' ', '_')\n",
    "\n",
    "s = df.dtypes[df.dtypes == \"object\"]\n",
    "print(s.index, \"\\n\")\n",
    "print(s.values)"
   ]
  },
  {
   "cell_type": "code",
   "execution_count": 6,
   "id": "24a8d048-760f-4f57-a24b-e485d0ebea98",
   "metadata": {},
   "outputs": [],
   "source": [
    "strings = list(df.dtypes[df.dtypes == \"object\"].index)\n",
    "numeric = list(df.dtypes[df.dtypes != \"object\"].index)"
   ]
  },
  {
   "cell_type": "code",
   "execution_count": 7,
   "id": "8f035863-b822-42b3-a769-d96ab7c4a79d",
   "metadata": {},
   "outputs": [
    {
     "data": {
      "text/html": [
       "<div>\n",
       "<style scoped>\n",
       "    .dataframe tbody tr th:only-of-type {\n",
       "        vertical-align: middle;\n",
       "    }\n",
       "\n",
       "    .dataframe tbody tr th {\n",
       "        vertical-align: top;\n",
       "    }\n",
       "\n",
       "    .dataframe thead th {\n",
       "        text-align: right;\n",
       "    }\n",
       "</style>\n",
       "<table border=\"1\" class=\"dataframe\">\n",
       "  <thead>\n",
       "    <tr style=\"text-align: right;\">\n",
       "      <th></th>\n",
       "      <th>ram</th>\n",
       "      <th>storage</th>\n",
       "      <th>screen</th>\n",
       "      <th>final_price</th>\n",
       "    </tr>\n",
       "  </thead>\n",
       "  <tbody>\n",
       "    <tr>\n",
       "      <th>0</th>\n",
       "      <td>8</td>\n",
       "      <td>512</td>\n",
       "      <td>15.6</td>\n",
       "      <td>1009.00</td>\n",
       "    </tr>\n",
       "    <tr>\n",
       "      <th>1</th>\n",
       "      <td>8</td>\n",
       "      <td>256</td>\n",
       "      <td>15.6</td>\n",
       "      <td>299.00</td>\n",
       "    </tr>\n",
       "    <tr>\n",
       "      <th>2</th>\n",
       "      <td>8</td>\n",
       "      <td>256</td>\n",
       "      <td>15.6</td>\n",
       "      <td>789.00</td>\n",
       "    </tr>\n",
       "    <tr>\n",
       "      <th>3</th>\n",
       "      <td>16</td>\n",
       "      <td>1000</td>\n",
       "      <td>15.6</td>\n",
       "      <td>1199.00</td>\n",
       "    </tr>\n",
       "    <tr>\n",
       "      <th>4</th>\n",
       "      <td>16</td>\n",
       "      <td>512</td>\n",
       "      <td>15.6</td>\n",
       "      <td>669.01</td>\n",
       "    </tr>\n",
       "  </tbody>\n",
       "</table>\n",
       "</div>"
      ],
      "text/plain": [
       "   ram  storage  screen  final_price\n",
       "0    8      512    15.6      1009.00\n",
       "1    8      256    15.6       299.00\n",
       "2    8      256    15.6       789.00\n",
       "3   16     1000    15.6      1199.00\n",
       "4   16      512    15.6       669.01"
      ]
     },
     "execution_count": 7,
     "metadata": {},
     "output_type": "execute_result"
    }
   ],
   "source": [
    "df = df[numeric]\n",
    "df.head()"
   ]
  },
  {
   "cell_type": "code",
   "execution_count": 8,
   "id": "1fdbf83a-026b-4ad4-9634-ea53c14dfd02",
   "metadata": {},
   "outputs": [
    {
     "name": "stdout",
     "output_type": "stream",
     "text": [
      "ram\n",
      "[  8  16  32  12   4  64 128   6  40]\n",
      "no. of unique values: 9 \n",
      "\n",
      "storage\n",
      "[ 512  256 1000   64  128]\n",
      "no. of unique values: 12 \n",
      "\n",
      "screen\n",
      "[15.6 17.3 14.  16.1 13.3]\n",
      "no. of unique values: 29 \n",
      "\n",
      "final_price\n",
      "[1009.    299.    789.   1199.    669.01]\n",
      "no. of unique values: 1440 \n",
      "\n"
     ]
    }
   ],
   "source": [
    "for col in df.columns:\n",
    "    print(col)\n",
    "    if len(df[col].unique()) > 10:\n",
    "        print(df[col].unique()[:5])\n",
    "        print(\"no. of unique values:\",df[col].nunique(),\"\\n\")\n",
    "    else:\n",
    "        print(df[col].unique())\n",
    "        print(\"no. of unique values:\",df[col].nunique(),\"\\n\")"
   ]
  },
  {
   "cell_type": "code",
   "execution_count": 9,
   "id": "cae2fc37-0d09-4cac-94fe-2feda23e79e2",
   "metadata": {},
   "outputs": [],
   "source": [
    "import matplotlib.pyplot as plt\n",
    "import seaborn as sns\n",
    "\n",
    "%matplotlib inline"
   ]
  },
  {
   "cell_type": "code",
   "execution_count": 10,
   "id": "abdbc30d-a484-4925-b395-f055f49cd77c",
   "metadata": {},
   "outputs": [
    {
     "data": {
      "image/png": "[encoded data removed]",
      "text/plain": [
       "<Figure size 640x480 with 1 Axes>"
      ]
     },
     "metadata": {},
     "output_type": "display_data"
    }
   ],
   "source": [
    "# Data is right-skewed (long tailed) so we will need to evaluate the log-transformation\n",
    "sns.histplot(df.final_price, bins=50, color=\"red\")\n",
    "\n",
    "plt.show()"
   ]
  },
  {
   "cell_type": "code",
   "execution_count": 11,
   "id": "5fe444c9-a0b9-4f8a-8ef5-748aae9d4bbb",
   "metadata": {},
   "outputs": [
    {
     "data": {
      "image/png": "[encoded data removed]",
      "text/plain": [
       "<Figure size 640x480 with 1 Axes>"
      ]
     },
     "metadata": {},
     "output_type": "display_data"
    }
   ],
   "source": [
    "price_logs = np.log1p(df.final_price)\n",
    "\n",
    "sns.histplot(price_logs, bins=50, color=\"red\")\n",
    "\n",
    "plt.show()"
   ]
  },
  {
   "cell_type": "code",
   "execution_count": 12,
   "id": "211b843c-0f9c-4003-b0db-2c6635e23555",
   "metadata": {},
   "outputs": [
    {
     "data": {
      "text/plain": [
       "screen    4\n",
       "dtype: int64"
      ]
     },
     "execution_count": 12,
     "metadata": {},
     "output_type": "execute_result"
    }
   ],
   "source": [
    "df.isnull().sum()[df.isnull().sum() != 0]"
   ]
  },
  {
   "cell_type": "markdown",
   "id": "a6c62669-12ba-4464-8996-099391dbe356",
   "metadata": {},
   "source": [
    "column with missing values: 'screen'"
   ]
  },
  {
   "cell_type": "code",
   "execution_count": 13,
   "id": "649628aa-f460-4b7c-b91f-a8f0b7aca1c9",
   "metadata": {},
   "outputs": [
    {
     "data": {
      "text/plain": [
       "16.0"
      ]
     },
     "execution_count": 13,
     "metadata": {},
     "output_type": "execute_result"
    }
   ],
   "source": [
    "df.ram.median()"
   ]
  },
  {
   "cell_type": "code",
   "execution_count": 14,
   "id": "96836833-9364-4e69-829e-9d2ed379ce08",
   "metadata": {},
   "outputs": [
    {
     "data": {
      "text/plain": [
       "2160"
      ]
     },
     "execution_count": 14,
     "metadata": {},
     "output_type": "execute_result"
    }
   ],
   "source": [
    "len(df)"
   ]
  },
  {
   "cell_type": "markdown",
   "id": "5c1d36da-fa33-48c4-9a69-d25d476c9c46",
   "metadata": {},
   "source": [
    "### Preparing the dataframe"
   ]
  },
  {
   "cell_type": "code",
   "execution_count": 20,
   "id": "4017a5a4-6479-4d02-8fbf-112cec6786e8",
   "metadata": {},
   "outputs": [],
   "source": [
    "n = len(df)\n",
    "\n",
    "n_val = int(0.2 * n)\n",
    "n_test = int(0.2 * n)\n",
    "n_train = n - n_val -n_test\n",
    "\n",
    "idx = np.arange(n)\n",
    "np.random.seed(42)\n",
    "np.random.shuffle(idx)\n",
    "\n",
    "df_train = df.iloc[idx[:n_train]]\n",
    "df_val = df.iloc[idx[n_train:n_train+n_val]]\n",
    "df_test = df.iloc[idx[n_train+n_val:]]\n",
    "\n",
    "df_train = df_train.reset_index(drop=True)\n",
    "df_val = df_val.reset_index(drop=True)\n",
    "df_test = df_test.reset_index(drop=True)\n",
    "\n",
    "y_train = df_train.final_price.values\n",
    "y_val = df_val.final_price.values\n",
    "y_test = df_test.final_price.values\n",
    "\n",
    "del df_train['final_price']\n",
    "del df_val['final_price']\n",
    "del df_test['final_price']"
   ]
  },
  {
   "cell_type": "code",
   "execution_count": 21,
   "id": "53c2a844-03db-4c8b-93c3-094e2eb91ba6",
   "metadata": {},
   "outputs": [],
   "source": [
    "def train_linear_regression(X, y):\n",
    "    ones = np.ones(X.shape[0])\n",
    "    X = np.column_stack([ones, X])\n",
    "\n",
    "    XTX = X.T.dot(X)\n",
    "    XTX_inv = np.linalg.inv(XTX)\n",
    "    w_full = XTX_inv.dot(X.T).dot(y)\n",
    "    \n",
    "    return w_full[0], w_full[1:]\n",
    "\n",
    "\n",
    "def rmse(y, y_pred):\n",
    "    se = (y - y_pred) ** 2\n",
    "    mse = se.mean()\n",
    "    return np.sqrt(mse)"
   ]
  },
  {
   "cell_type": "markdown",
   "id": "27f167b1-652a-49f6-a09e-5a0497140fae",
   "metadata": {},
   "source": [
    "### RMSE (filling the missing values of 'screen' with 0s vs. with the mean value) \"without regularization\""
   ]
  },
  {
   "cell_type": "markdown",
   "id": "73e8da67-0860-45cc-9e35-a49bbb54f616",
   "metadata": {},
   "source": [
    "### 01. filling missing values with 0"
   ]
  },
  {
   "cell_type": "code",
   "execution_count": 22,
   "id": "15930fd0-df6a-4ff5-a4fa-401e87cd9335",
   "metadata": {},
   "outputs": [
    {
     "data": {
      "text/plain": [
       "ram        0\n",
       "storage    0\n",
       "screen     3\n",
       "dtype: int64"
      ]
     },
     "execution_count": 22,
     "metadata": {},
     "output_type": "execute_result"
    }
   ],
   "source": [
    "df_train.isnull().sum()"
   ]
  },
  {
   "cell_type": "code",
   "execution_count": 23,
   "id": "9295e712-30c2-4e4e-93ad-8f66cc735ba2",
   "metadata": {},
   "outputs": [
    {
     "name": "stdout",
     "output_type": "stream",
     "text": [
      "      ram  storage  screen\n",
      "124    16      512     NaN\n",
      "1062   16      512     NaN\n",
      "1238    8      256     NaN\n"
     ]
    }
   ],
   "source": [
    "rows_with_missing_values = df_train[df_train.isnull().any(axis=1)]\n",
    "print(rows_with_missing_values)\n",
    "indexes_of_rows_with_missing_values = rows_with_missing_values.index.tolist()"
   ]
  },
  {
   "cell_type": "code",
   "execution_count": 26,
   "id": "866642b4-5193-4e5d-b1e5-aa1d8c73b96f",
   "metadata": {},
   "outputs": [],
   "source": [
    "def prepare_X(df):\n",
    "    df_num = df.copy()\n",
    "    return df_num.fillna(0).values\n",
    "\n",
    "X_train = prepare_X(df_train)"
   ]
  },
  {
   "cell_type": "code",
   "execution_count": 27,
   "id": "5deeac5e-f535-4414-b381-14adf8c49d6d",
   "metadata": {},
   "outputs": [
    {
     "name": "stdout",
     "output_type": "stream",
     "text": [
      "Rows with missing values after filling them:\n",
      "[[ 16. 512.   0.]\n",
      " [ 16. 512.   0.]\n",
      " [  8. 256.   0.]]\n",
      "\n",
      "RMSE: 597.36\n"
     ]
    }
   ],
   "source": [
    "print(\"Rows with missing values after filling them:\")\n",
    "print(X_train[indexes_of_rows_with_missing_values])\n",
    "\n",
    "w0, w = train_linear_regression(X_train, y_train)\n",
    "\n",
    "X_val = prepare_X(df_val)\n",
    "y_pred = w0 + X_val.dot(w)\n",
    "\n",
    "rmse_with_zero = round(rmse(y_val, y_pred), 2).item()\n",
    "print(f\"\\nRMSE: {rmse_with_zero}\")"
   ]
  },
  {
   "cell_type": "code",
   "execution_count": 73,
   "id": "cef6a5c2-7ee4-49c4-9ac4-e4c360b17b1f",
   "metadata": {},
   "outputs": [],
   "source": [
    "X_train_mean = df_train_mean.values"
   ]
  },
  {
   "cell_type": "code",
   "execution_count": 75,
   "id": "f96d9635-745b-4fec-b54f-e78b06acdf91",
   "metadata": {},
   "outputs": [],
   "source": [
    "w0_zeros, w_zeros = train_linear_regression(X_train_zeros, y_train)\n",
    "y_pred_zeros = w0_zeros + X_train_zeros.dot(w_zeros)\n",
    " \n",
    "w0_mean, w_mean = train_linear_regression(X_train_mean, y_train)\n",
    "y_pred_mean = w0_mean + X_train_mean.dot(w_mean)"
   ]
  },
  {
   "cell_type": "code",
   "execution_count": 76,
   "id": "aaa74e06-3620-481f-a35f-3e5abfbf6979",
   "metadata": {},
   "outputs": [],
   "source": [
    "def rmse(y, y_pred):\n",
    "    se = (y - y_pred) ** 2\n",
    "    mse = se.mean()\n",
    "    return np.sqrt(mse)"
   ]
  },
  {
   "cell_type": "code",
   "execution_count": 79,
   "id": "7fb2c8f2-952a-4783-8d55-a4997cd274dd",
   "metadata": {},
   "outputs": [
    {
     "data": {
      "text/plain": [
       "0.45"
      ]
     },
     "execution_count": 79,
     "metadata": {},
     "output_type": "execute_result"
    }
   ],
   "source": [
    "round(rmse(y_train, y_pred_zeros), 2)"
   ]
  },
  {
   "cell_type": "code",
   "execution_count": 80,
   "id": "24681b15-32d2-4ae8-931c-18e1a9be3f83",
   "metadata": {},
   "outputs": [
    {
     "data": {
      "text/plain": [
       "0.45"
      ]
     },
     "execution_count": 80,
     "metadata": {},
     "output_type": "execute_result"
    }
   ],
   "source": [
    "round(rmse(y_train, y_pred_mean),2)"
   ]
  },
  {
   "cell_type": "markdown",
   "id": "d95ee39c-4a2f-4486-b17e-2bbac97ca5a1",
   "metadata": {},
   "source": [
    "### "
   ]
  },
  {
   "cell_type": "markdown",
   "id": "e2d2dd6c-0dd8-4870-b5b1-e7b3453c67cf",
   "metadata": {},
   "source": [
    "### "
   ]
  },
  {
   "cell_type": "markdown",
   "id": "8469f1ab-a7f2-419a-9164-c6a81f4c7595",
   "metadata": {},
   "source": [
    "### BBBBB"
   ]
  },
  {
   "cell_type": "markdown",
   "id": "66a8c81d-8d02-4495-91a0-0e18aa0b4b03",
   "metadata": {},
   "source": [
    "### "
   ]
  },
  {
   "cell_type": "markdown",
   "id": "f7beecaa-b7e2-43b0-a48e-951edc156ad6",
   "metadata": {},
   "source": [
    "### result: Both are equally good"
   ]
  },
  {
   "cell_type": "code",
   "execution_count": 81,
   "id": "78496f9c-7c5e-4da3-9d9e-596f153a0982",
   "metadata": {},
   "outputs": [
    {
     "data": {
      "text/plain": [
       "6.727163706116559"
      ]
     },
     "execution_count": 81,
     "metadata": {},
     "output_type": "execute_result"
    }
   ],
   "source": [
    "w0_zeros"
   ]
  },
  {
   "cell_type": "code",
   "execution_count": 82,
   "id": "39b12972-d266-4324-8061-b05b00a73eb8",
   "metadata": {},
   "outputs": [
    {
     "data": {
      "text/plain": [
       "array([ 0.02630589,  0.00066041, -0.03651909])"
      ]
     },
     "execution_count": 82,
     "metadata": {},
     "output_type": "execute_result"
    }
   ],
   "source": [
    "w_zeros"
   ]
  },
  {
   "cell_type": "code",
   "execution_count": 83,
   "id": "435604f9-e127-4208-bcfd-a3dde1a90a16",
   "metadata": {},
   "outputs": [
    {
     "data": {
      "text/plain": [
       "6.855566544140346"
      ]
     },
     "execution_count": 83,
     "metadata": {},
     "output_type": "execute_result"
    }
   ],
   "source": [
    "w0_mean"
   ]
  },
  {
   "cell_type": "code",
   "execution_count": 84,
   "id": "3ad94822-6b77-41a1-880a-3b75a8dc036a",
   "metadata": {},
   "outputs": [
    {
     "data": {
      "text/plain": [
       "array([ 0.02650252,  0.00066643, -0.04534341])"
      ]
     },
     "execution_count": 84,
     "metadata": {},
     "output_type": "execute_result"
    }
   ],
   "source": [
    "w_mean"
   ]
  },
  {
   "cell_type": "code",
   "execution_count": 85,
   "id": "780e576c-eb63-43fc-ab98-879791b9e169",
   "metadata": {},
   "outputs": [],
   "source": [
    "# With regularization\n",
    "def train_linear_regression_reg(X, y, r=0.001):\n",
    "    ones = np.ones(X.shape[0])\n",
    "    X = np.column_stack([ones, X])\n",
    "\n",
    "    XTX = X.T.dot(X)\n",
    "    XTX = XTX + r * np.eye(XTX.shape[0])\n",
    "\n",
    "    XTX_inv = np.linalg.inv(XTX)\n",
    "    w_full = XTX_inv.dot(X.T).dot(y)\n",
    "    \n",
    "    return w_full[0], w_full[1:]"
   ]
  },
  {
   "cell_type": "code",
   "execution_count": 86,
   "id": "47359686-6042-458e-b6ad-ff3419d8b247",
   "metadata": {},
   "outputs": [
    {
     "data": {
      "text/plain": [
       "ram        0\n",
       "storage    0\n",
       "screen     3\n",
       "dtype: int64"
      ]
     },
     "execution_count": 86,
     "metadata": {},
     "output_type": "execute_result"
    }
   ],
   "source": [
    "df_train.isnull().sum()"
   ]
  },
  {
   "cell_type": "code",
   "execution_count": 90,
   "id": "dc460d91-f455-438f-bf34-91ee1d9e91d1",
   "metadata": {},
   "outputs": [
    {
     "data": {
      "text/plain": [
       "ram        0\n",
       "storage    0\n",
       "screen     0\n",
       "dtype: int64"
      ]
     },
     "execution_count": 90,
     "metadata": {},
     "output_type": "execute_result"
    }
   ],
   "source": [
    "df_train.isnull().sum()"
   ]
  },
  {
   "cell_type": "code",
   "execution_count": 93,
   "id": "85cad0da-2fbd-4f00-96ce-0dc9b255226c",
   "metadata": {},
   "outputs": [
    {
     "data": {
      "text/plain": [
       "ram        0\n",
       "storage    0\n",
       "screen     1\n",
       "dtype: int64"
      ]
     },
     "execution_count": 93,
     "metadata": {},
     "output_type": "execute_result"
    }
   ],
   "source": [
    "df_val.isnull().sum()"
   ]
  },
  {
   "cell_type": "code",
   "execution_count": 94,
   "id": "38fbf448-c551-4669-a97f-2c2f857328ca",
   "metadata": {},
   "outputs": [
    {
     "name": "stderr",
     "output_type": "stream",
     "text": [
      "C:\\Users\\MUHAMMED IBRAHIM\\AppData\\Local\\Temp\\ipykernel_9832\\1426529302.py:1: SettingWithCopyWarning: \n",
      "A value is trying to be set on a copy of a slice from a DataFrame.\n",
      "Try using .loc[row_indexer,col_indexer] = value instead\n",
      "\n",
      "See the caveats in the documentation: https://pandas.pydata.org/pandas-docs/stable/user_guide/indexing.html#returning-a-view-versus-a-copy\n",
      "  df_val['screen'] = df_val['screen'].fillna(0)\n"
     ]
    }
   ],
   "source": [
    "df_val['screen'] = df_val['screen'].fillna(0)"
   ]
  },
  {
   "cell_type": "code",
   "execution_count": 95,
   "id": "21649dc6-27c5-4091-85f1-f2de45a9afaf",
   "metadata": {},
   "outputs": [
    {
     "data": {
      "text/plain": [
       "ram        0\n",
       "storage    0\n",
       "screen     0\n",
       "dtype: int64"
      ]
     },
     "execution_count": 95,
     "metadata": {},
     "output_type": "execute_result"
    }
   ],
   "source": [
    "df_val.isnull().sum()"
   ]
  },
  {
   "cell_type": "code",
   "execution_count": 96,
   "id": "d4adc592-0715-48b7-934f-0e3257a89256",
   "metadata": {},
   "outputs": [],
   "source": [
    "X_train = df_train.values\n",
    "X_val = df_val.values"
   ]
  },
  {
   "cell_type": "code",
   "execution_count": 102,
   "id": "192d44d4-64eb-4e76-be18-a8ff46bfc6a1",
   "metadata": {},
   "outputs": [
    {
     "data": {
      "text/plain": [
       "0.43"
      ]
     },
     "execution_count": 102,
     "metadata": {},
     "output_type": "execute_result"
    }
   ],
   "source": [
    "w0, w = train_linear_regression_reg(X_train, y_train, r=0.01)\n",
    "\n",
    "y_pred = w0 + X_val.dot(w)\n",
    "round(rmse(y_val, y_pred), 2)"
   ]
  },
  {
   "cell_type": "code",
   "execution_count": 103,
   "id": "0a37cff6-0d16-4314-9612-f13388f0aa58",
   "metadata": {},
   "outputs": [
    {
     "name": "stdout",
     "output_type": "stream",
     "text": [
      "0.0 6.727163706116559 0.4288635315474399\n",
      "1e-05 6.727157541080534 0.4288635193013878\n",
      "0.0001 6.7271020562686665 0.42886340911857396\n",
      "0.001 6.726547258699545 0.4288623104219867\n",
      "0.01 6.721004333264144 0.428851636053407\n",
      "0.1 6.666075503831725 0.4287756009707556\n",
      "1 6.162616499463823 0.43059329897431\n",
      "10 3.516754720793905 0.5075657769236755\n"
     ]
    }
   ],
   "source": [
    "for r in [0.0, 0.00001, 0.0001, 0.001, 0.01, 0.1, 1, 10]:\n",
    "    w0, w = train_linear_regression_reg(X_train, y_train, r=r)\n",
    "\n",
    "    y_pred = w0 + X_val.dot(w)\n",
    "    score = rmse(y_val, y_pred)\n",
    "    \n",
    "    print(r, w0, score)"
   ]
  },
  {
   "cell_type": "markdown",
   "id": "817acad7-2c1e-4e39-8bbb-892f673dc718",
   "metadata": {},
   "source": [
    "### Smallest RMSE = 0.4287756009707556  for (r = 0.1) "
   ]
  },
  {
   "cell_type": "markdown",
   "id": "99d871f3-c2b8-4ed2-a6c5-af5b8378486f",
   "metadata": {},
   "source": [
    "# Q5. Seed influence on score\n",
    "### Filling the missing values with 0 and training a model without regularization"
   ]
  },
  {
   "cell_type": "code",
   "execution_count": 147,
   "id": "19ae2096-1104-4cac-bb57-ad6ff46b467b",
   "metadata": {},
   "outputs": [
    {
     "data": {
      "text/html": [
       "<div>\n",
       "<style scoped>\n",
       "    .dataframe tbody tr th:only-of-type {\n",
       "        vertical-align: middle;\n",
       "    }\n",
       "\n",
       "    .dataframe tbody tr th {\n",
       "        vertical-align: top;\n",
       "    }\n",
       "\n",
       "    .dataframe thead th {\n",
       "        text-align: right;\n",
       "    }\n",
       "</style>\n",
       "<table border=\"1\" class=\"dataframe\">\n",
       "  <thead>\n",
       "    <tr style=\"text-align: right;\">\n",
       "      <th></th>\n",
       "      <th>ram</th>\n",
       "      <th>storage</th>\n",
       "      <th>screen</th>\n",
       "      <th>final_price</th>\n",
       "    </tr>\n",
       "  </thead>\n",
       "  <tbody>\n",
       "    <tr>\n",
       "      <th>0</th>\n",
       "      <td>8</td>\n",
       "      <td>512</td>\n",
       "      <td>15.6</td>\n",
       "      <td>1009.00</td>\n",
       "    </tr>\n",
       "    <tr>\n",
       "      <th>1</th>\n",
       "      <td>8</td>\n",
       "      <td>256</td>\n",
       "      <td>15.6</td>\n",
       "      <td>299.00</td>\n",
       "    </tr>\n",
       "    <tr>\n",
       "      <th>2</th>\n",
       "      <td>8</td>\n",
       "      <td>256</td>\n",
       "      <td>15.6</td>\n",
       "      <td>789.00</td>\n",
       "    </tr>\n",
       "    <tr>\n",
       "      <th>3</th>\n",
       "      <td>16</td>\n",
       "      <td>1000</td>\n",
       "      <td>15.6</td>\n",
       "      <td>1199.00</td>\n",
       "    </tr>\n",
       "    <tr>\n",
       "      <th>4</th>\n",
       "      <td>16</td>\n",
       "      <td>512</td>\n",
       "      <td>15.6</td>\n",
       "      <td>669.01</td>\n",
       "    </tr>\n",
       "    <tr>\n",
       "      <th>...</th>\n",
       "      <td>...</td>\n",
       "      <td>...</td>\n",
       "      <td>...</td>\n",
       "      <td>...</td>\n",
       "    </tr>\n",
       "    <tr>\n",
       "      <th>2155</th>\n",
       "      <td>16</td>\n",
       "      <td>1000</td>\n",
       "      <td>17.3</td>\n",
       "      <td>2699.99</td>\n",
       "    </tr>\n",
       "    <tr>\n",
       "      <th>2156</th>\n",
       "      <td>16</td>\n",
       "      <td>1000</td>\n",
       "      <td>17.3</td>\n",
       "      <td>2899.99</td>\n",
       "    </tr>\n",
       "    <tr>\n",
       "      <th>2157</th>\n",
       "      <td>32</td>\n",
       "      <td>1000</td>\n",
       "      <td>17.3</td>\n",
       "      <td>3399.99</td>\n",
       "    </tr>\n",
       "    <tr>\n",
       "      <th>2158</th>\n",
       "      <td>16</td>\n",
       "      <td>1000</td>\n",
       "      <td>13.4</td>\n",
       "      <td>1899.99</td>\n",
       "    </tr>\n",
       "    <tr>\n",
       "      <th>2159</th>\n",
       "      <td>16</td>\n",
       "      <td>256</td>\n",
       "      <td>13.4</td>\n",
       "      <td>1699.99</td>\n",
       "    </tr>\n",
       "  </tbody>\n",
       "</table>\n",
       "<p>2160 rows × 4 columns</p>\n",
       "</div>"
      ],
      "text/plain": [
       "      ram  storage  screen  final_price\n",
       "0       8      512    15.6      1009.00\n",
       "1       8      256    15.6       299.00\n",
       "2       8      256    15.6       789.00\n",
       "3      16     1000    15.6      1199.00\n",
       "4      16      512    15.6       669.01\n",
       "...   ...      ...     ...          ...\n",
       "2155   16     1000    17.3      2699.99\n",
       "2156   16     1000    17.3      2899.99\n",
       "2157   32     1000    17.3      3399.99\n",
       "2158   16     1000    13.4      1899.99\n",
       "2159   16      256    13.4      1699.99\n",
       "\n",
       "[2160 rows x 4 columns]"
      ]
     },
     "execution_count": 147,
     "metadata": {},
     "output_type": "execute_result"
    }
   ],
   "source": [
    "url =  \"https://raw.githubusercontent.com/alexeygrigorev/datasets/master/laptops.csv\"\n",
    "\n",
    "data = pd.read_csv(url)\n",
    "\n",
    "df = data.copy()\n",
    "df.columns = df.columns.str.lower().str.replace(' ', '_')\n",
    "numeric = list(df.dtypes[df.dtypes != \"object\"].index)\n",
    "df = df[numeric]\n",
    "df"
   ]
  },
  {
   "cell_type": "code",
   "execution_count": 148,
   "id": "beee34f4-ba02-4ae2-b525-be7d36ad545b",
   "metadata": {},
   "outputs": [],
   "source": [
    "def split_data_train_val_test(df, s):\n",
    "    np.random.seed(s)\n",
    "    shuffled_idx = np.random.permutation(len(df))\n",
    "    df_shuffled = df.iloc[shuffled_idx].reset_index(drop=True)\n",
    "    \n",
    "    n = len(df)\n",
    "    n_val = int(0.2 * n)\n",
    "    n_test = int(0.2 * n)\n",
    "\n",
    "    n_train = n - n_val - n_test\n",
    "\n",
    "    df_train = df_shuffled.iloc[:n_train]\n",
    "    df_val = df_shuffled.iloc[n_train : n_train + n_val]\n",
    "    df_test = df_shuffled.iloc[n_train + n_val : ]\n",
    "\n",
    "    return df_train, df_val, df_test\n",
    "    \n",
    "def prepare_y(df_train, df_val, df_test):\n",
    "    y_train = np.log1p(df_train.final_price.values)\n",
    "    y_val = np.log1p(df_val.final_price.values)\n",
    "    y_test = np.log1p(df_test.final_price.values)\n",
    "\n",
    "    return y_train, y_val, y_test\n",
    "\n",
    "def prepare_dataframe(df_train, df_val, df_test):\n",
    "    return (\n",
    "        df_train.drop(columns=[\"final_price\"]),\n",
    "        df_val.drop(columns=[\"final_price\"]),\n",
    "        df_test.drop(columns=[\"final_price\"])\n",
    "    )\n",
    "\n",
    "    \n",
    "def prepare_X(df):\n",
    "    df = df.fillna(0)\n",
    "    X = df.values\n",
    "    return X\n",
    "\n",
    "def train_linear_regression(X, y):\n",
    "    ones = np.ones(X.shape[0])\n",
    "    X = np.column_stack([ones, X])\n",
    "\n",
    "    XTX = X.T.dot(X)\n",
    "    XTX_inv = np.linalg.inv(XTX)\n",
    "    w_full = XTX_inv.dot(X.T).dot(y)\n",
    "    \n",
    "    return w_full[0], w_full[1:]"
   ]
  },
  {
   "cell_type": "code",
   "execution_count": 149,
   "id": "dc98ddb1-9982-4c56-9fbd-f3150baf68dd",
   "metadata": {},
   "outputs": [
    {
     "name": "stdout",
     "output_type": "stream",
     "text": [
      "0 6.572550232274904 0.4300421569415628\n",
      "1 6.750720484988954 0.4520794495247193\n",
      "2 6.63212747804929 0.44626255742365517\n",
      "3 6.651036507377254 0.4464515565727191\n",
      "4 6.685700424346097 0.4199805419364103\n",
      "5 6.655019237487608 0.4254576323418689\n",
      "6 6.896746475866495 0.44883228723885427\n",
      "7 6.554102037371887 0.43091598759041194\n",
      "8 6.608907527827233 0.4428849183283809\n",
      "9 6.72287942195599 0.4084033426239871\n",
      "\n",
      " [0.4300421569415628, 0.4520794495247193, 0.44626255742365517, 0.4464515565727191, 0.4199805419364103, 0.4254576323418689, 0.44883228723885427, 0.43091598759041194, 0.4428849183283809, 0.4084033426239871]\n"
     ]
    }
   ],
   "source": [
    "scores = []\n",
    "for s in range(10):\n",
    "    data_split_res = split_data_train_val_test(df, s)\n",
    "    df_y = prepare_y(*data_split_res)\n",
    "    y_train, y_val, y_test = df_y   \n",
    "\n",
    "    prepared_dfs = prepare_dataframe(*data_split_res)\n",
    "    X_train = prepare_X(prepared_dfs[0])\n",
    "    X_val = prepare_X(prepared_dfs[1])\n",
    "\n",
    "    w0, w = train_linear_regression(X_train, y_train)\n",
    "    y_pred = w0 + X_val.dot(w)\n",
    "\n",
    "    score = rmse(y_val, y_pred)    \n",
    "    scores.append(score)\n",
    "\n",
    "    print(s, w0, score)\n",
    "\n",
    "print(\"\\n\", scores)\n"
   ]
  },
  {
   "cell_type": "code",
   "execution_count": 150,
   "id": "231780ce-50d9-4f96-9bd5-acacbb6bb126",
   "metadata": {},
   "outputs": [],
   "source": [
    "scores_num = np.array(scores)\n",
    "\n",
    "std_value = scores_num.std()"
   ]
  },
  {
   "cell_type": "code",
   "execution_count": 151,
   "id": "6fb65a68-628e-4de1-a5d7-c62d60a7bcba",
   "metadata": {},
   "outputs": [
    {
     "data": {
      "text/plain": [
       "0.013668598238269975"
      ]
     },
     "execution_count": 151,
     "metadata": {},
     "output_type": "execute_result"
    }
   ],
   "source": [
    "std_value"
   ]
  },
  {
   "cell_type": "code",
   "execution_count": 152,
   "id": "6d5ecc7e-b4ee-405a-b79a-7d5817375483",
   "metadata": {},
   "outputs": [
    {
     "data": {
      "text/plain": [
       "0.014"
      ]
     },
     "execution_count": 152,
     "metadata": {},
     "output_type": "execute_result"
    }
   ],
   "source": [
    "round(std_value, 3)"
   ]
  },
  {
   "cell_type": "code",
   "execution_count": 154,
   "id": "5b51f747-da70-458d-b53b-e8ffcd63e3ff",
   "metadata": {},
   "outputs": [
    {
     "data": {
      "text/plain": [
       "0.013762440604241727"
      ]
     },
     "execution_count": 154,
     "metadata": {},
     "output_type": "execute_result"
    }
   ],
   "source": [
    "np.expm1(std_value)"
   ]
  },
  {
   "cell_type": "code",
   "execution_count": 157,
   "id": "4095bda0-f44a-405b-946f-fe138d2561cb",
   "metadata": {},
   "outputs": [
    {
     "data": {
      "text/plain": [
       "array([1068.07436054,  693.14160283,  832.81626614, 1008.9046235 ,\n",
       "       1008.9046235 , 1008.9046235 , 1008.9046235 , 1008.9046235 ,\n",
       "        693.14160283,  832.81626614, 1181.6339746 ,  832.81626614,\n",
       "        639.41118915, 1431.38692666,  832.81626614,  752.34503881,\n",
       "       1008.9046235 ,  825.68121354,  744.34529831,  991.09440404,\n",
       "        814.2277002 , 1976.91360433,  693.14160283,  693.14160283,\n",
       "        832.81626614,  574.48224769, 1431.38692666, 1542.53066748,\n",
       "       1058.92617993,  752.34503881,  821.03152807, 1068.07436054,\n",
       "       1431.38692666, 1008.9046235 ,  832.81626614, 1000.26276449,\n",
       "       1068.07436054,  580.90744353, 4238.58181504, 1515.30966136,\n",
       "        832.81626614,  693.14160283, 1181.6339746 , 1411.14229312,\n",
       "       1976.91360433, 1504.55615244, 1095.0395324 , 2100.26266107,\n",
       "        615.00106942, 1008.9046235 ,  725.43913866,  635.81973252,\n",
       "        693.14160283,  693.73504113,  832.81626614,  831.27557852,\n",
       "       1068.07436054, 2100.26266107, 1008.9046235 , 1068.07436054,\n",
       "       1068.07436054,  693.14160283, 1431.38692666, 1008.9046235 ,\n",
       "       1976.91360433, 1431.38692666,  832.81626614,  881.66908656,\n",
       "       1068.07436054, 1008.9046235 ,  832.81626614,  832.81626614,\n",
       "       1068.07436054,  693.14160283, 2070.56447566, 1008.9046235 ,\n",
       "       2100.26266107,  832.81626614, 1008.9046235 ,  832.81626614,\n",
       "        832.81626614, 1095.0395324 ,  693.14160283, 2070.56447566,\n",
       "       1008.9046235 , 1008.9046235 ,  839.73295585, 1553.55541124,\n",
       "        693.14160283,  693.14160283,  752.34503881,  686.35767783,\n",
       "        994.63114151,  693.14160283,  832.81626614,  994.63114151,\n",
       "        821.03152807,  916.64639286,  832.81626614,  580.90744353,\n",
       "        832.81626614,  733.81096423,  832.81626614, 1431.38692666,\n",
       "        733.81096423, 1008.9046235 ,  832.81626614, 2070.56447566,\n",
       "       1095.0395324 , 1087.2665351 ,  994.63114151, 1068.07436054,\n",
       "       1976.91360433,  693.14160283, 1542.53066748,  832.81626614,\n",
       "        693.14160283, 1008.9046235 , 2100.26266107,  832.81626614,\n",
       "       1976.91360433, 1008.9046235 ,  666.6834773 , 1058.92617993,\n",
       "        903.93257401,  693.14160283, 1068.07436054,  779.63614037,\n",
       "        776.86312036, 1431.38692666,  693.14160283,  832.81626614,\n",
       "       2100.26266107, 2070.56447566, 2070.56447566,  839.73295585,\n",
       "       1976.91360433,  832.81626614,  607.29036818,  832.81626614,\n",
       "       1467.8182514 ,  752.34503881, 1976.91360433,  681.48300934,\n",
       "       1008.9046235 ,  733.81096423, 2100.26266107,  693.14160283,\n",
       "       1008.9046235 , 1008.9046235 ,  747.00239488, 1095.0395324 ,\n",
       "       1008.9046235 , 1068.07436054, 2100.26266107, 1068.07436054,\n",
       "       1515.30966136, 2055.87315788, 1091.14611855, 1411.14229312,\n",
       "       1515.30966136,  667.06544876, 1068.07436054,  693.14160283,\n",
       "       1008.9046235 , 1008.9046235 , 1068.07436054,  632.34001769,\n",
       "       1431.38692666, 1068.07436054,  693.14160283,  832.81626614,\n",
       "        686.35767783, 2223.37444432, 1480.49556319,  994.63114151,\n",
       "       1008.9046235 , 1976.91360433, 1052.96460336, 2100.26266107,\n",
       "        733.81096423, 1000.26276449, 1976.91360433, 1431.38692666,\n",
       "       1008.9046235 ,  783.86929163,  832.81626614,  994.63114151,\n",
       "        618.4303162 , 1553.55541124, 1542.53066748, 1411.14229312,\n",
       "        693.14160283, 9122.53221925, 1008.9046235 , 1431.38692666,\n",
       "       2223.37444432, 1008.9046235 ,  731.20072701,  693.14160283,\n",
       "       1068.07436054,  832.81626614, 1548.03323126, 1008.9046235 ,\n",
       "       1208.32135402, 1068.07436054, 4046.91965068, 8710.07740459,\n",
       "       1431.38692666,  949.62084855, 1008.9046235 , 1068.07436054,\n",
       "       1008.9046235 , 2063.20574672,  693.14160283, 1068.07436054,\n",
       "       2055.87315788, 1008.9046235 ,  574.48224769, 1095.0395324 ,\n",
       "       1008.9046235 , 1008.9046235 , 2100.26266107,  881.66908656,\n",
       "       1431.38692666,  693.14160283, 1008.9046235 , 1008.9046235 ,\n",
       "       1976.91360433,  618.4303162 ,  693.14160283, 1548.03323126,\n",
       "        832.81626614, 2100.26266107, 1553.55541124, 1068.07436054,\n",
       "        832.81626614, 1008.9046235 ,  686.35767783, 1071.88552542,\n",
       "       1515.30966136,  832.81626614,  841.76555953, 1068.07436054,\n",
       "       1068.07436054, 1431.38692666,  832.81626614,  693.14160283,\n",
       "       1052.96460336,  832.81626614, 1008.9046235 ,  693.14160283,\n",
       "        693.14160283,  752.34503881,  693.14160283, 1008.9046235 ,\n",
       "       1008.9046235 ,  693.14160283,  994.63114151, 1008.9046235 ,\n",
       "       1095.0395324 , 1431.38692666,  788.01465508,  580.90744353,\n",
       "        921.23233704,  949.62084855,  832.81626614,  832.81626614,\n",
       "        580.90744353,  832.81626614,  949.62084855,  821.03152807,\n",
       "        881.66908656, 1347.30244757,  832.81626614,  758.37449574,\n",
       "        733.81096423, 1008.9046235 ,  608.19942502,  818.11146101,\n",
       "       1008.9046235 , 4238.58181504,  994.63114151,  916.64639286,\n",
       "       1998.14241679,  832.81626614, 2223.37444432, 1068.07436054,\n",
       "       1008.9046235 ,  832.81626614,  894.32313161,  832.81626614,\n",
       "       2070.56447566,  832.81626614, 1068.07436054, 1068.07436054,\n",
       "       1431.38692666, 1008.9046235 ,  733.81096423,  832.81626614,\n",
       "        818.11146101,  949.62084855,  733.81096423,  693.14160283,\n",
       "        881.66908656, 2100.26266107, 4456.98337252, 1431.38692666,\n",
       "       1548.03323126,  693.14160283, 1406.1260011 , 1609.8716109 ,\n",
       "       1515.30966136, 1431.38692666,  832.81626614,  752.34503881,\n",
       "       1411.14229312,  629.72940073,  693.14160283,  693.14160283,\n",
       "       1087.2665351 , 1431.38692666, 1431.38692666,  693.14160283,\n",
       "       1976.91360433, 1008.9046235 ,  881.66908656, 8283.31204602,\n",
       "        618.4303162 , 1008.9046235 ,  832.81626614,  608.19942502,\n",
       "       1008.9046235 , 1008.9046235 ,  733.81096423,  693.14160283,\n",
       "       1928.25223887, 4238.58181504, 1134.74527765, 1008.9046235 ,\n",
       "        662.5151066 ,  821.03152807, 1758.43816325,  693.14160283,\n",
       "       1431.38692666, 2070.56447566,  632.34001769, 1008.9046235 ,\n",
       "       1401.12752824,  832.81626614, 1008.9046235 , 1030.69943586,\n",
       "        744.34529831,  752.34503881,  693.14160283, 1008.9046235 ,\n",
       "        881.66908656, 1411.14229312,  693.14160283, 1068.07436054,\n",
       "        693.14160283,  894.32313161,  832.81626614,  693.14160283,\n",
       "       1058.92617993,  733.81096423, 1095.0395324 ,  693.14160283,\n",
       "       1431.38692666, 1406.1260011 , 8803.57280709,  897.5148872 ,\n",
       "       1068.07436054,  832.81626614, 2271.37880284, 1068.07436054,\n",
       "       1411.14229312, 1008.9046235 , 2100.26266107,  693.73504113,\n",
       "        881.66908656, 1976.91360433, 1515.30966136,  832.81626614,\n",
       "        693.14160283,  693.14160283,  994.63114151, 1515.30966136,\n",
       "       1008.9046235 , 1515.30966136,  776.86312036, 1431.38692666,\n",
       "        733.81096423, 2100.26266107, 1976.91360433, 1431.38692666,\n",
       "       1431.38692666,  733.81096423, 1087.2665351 , 1411.14229312,\n",
       "       1030.69943586,  760.43063997,  832.81626614, 1515.30966136,\n",
       "        994.63114151, 1106.8032503 , 1431.38692666,  903.93257401,\n",
       "        832.81626614, 1976.91360433, 2271.37880284,  693.14160283,\n",
       "        733.81096423, 2100.26266107,  881.66908656,  693.14160283,\n",
       "       2100.26266107, 1068.07436054,  693.14160283, 4299.36094517,\n",
       "       1008.9046235 , 1347.30244757, 1008.9046235 ,  832.81626614,\n",
       "        760.43063997,  949.62084855,  832.81626614, 1068.07436054,\n",
       "       1095.0395324 ,  693.14160283, 1008.9046235 , 1008.9046235 ])"
      ]
     },
     "execution_count": 157,
     "metadata": {},
     "output_type": "execute_result"
    }
   ],
   "source": [
    "np.expm1(y_pred)"
   ]
  },
  {
   "cell_type": "code",
   "execution_count": null,
   "id": "7c992501-d706-49fc-bd85-aeaf211e7e1a",
   "metadata": {},
   "outputs": [],
   "source": []
  }
 ],
 "metadata": {
  "kernelspec": {
   "display_name": "Python 3 (ipykernel)",
   "language": "python",
   "name": "python3"
  },
  "language_info": {
   "codemirror_mode": {
    "name": "ipython",
    "version": 3
   },
   "file_extension": ".py",
   "mimetype": "text/x-python",
   "name": "python",
   "nbconvert_exporter": "python",
   "pygments_lexer": "ipython3",
   "version": "3.12.7"
  }
 },
 "nbformat": 4,
 "nbformat_minor": 5
}
