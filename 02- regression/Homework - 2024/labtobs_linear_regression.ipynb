{
 "cells": [
  {
   "cell_type": "code",
   "execution_count": 2,
   "id": "5446abba-1afc-4743-a7c7-7501d1364602",
   "metadata": {},
   "outputs": [],
   "source": [
    "import pandas as pd\n",
    "import numpy as np"
   ]
  },
  {
   "cell_type": "code",
   "execution_count": 3,
   "id": "f4538fea-9620-41a6-a0bd-2c6e26dcd1a5",
   "metadata": {},
   "outputs": [
    {
     "data": {
      "text/html": [
       "<div>\n",
       "<style scoped>\n",
       "    .dataframe tbody tr th:only-of-type {\n",
       "        vertical-align: middle;\n",
       "    }\n",
       "\n",
       "    .dataframe tbody tr th {\n",
       "        vertical-align: top;\n",
       "    }\n",
       "\n",
       "    .dataframe thead th {\n",
       "        text-align: right;\n",
       "    }\n",
       "</style>\n",
       "<table border=\"1\" class=\"dataframe\">\n",
       "  <thead>\n",
       "    <tr style=\"text-align: right;\">\n",
       "      <th></th>\n",
       "      <th>Laptop</th>\n",
       "      <th>Status</th>\n",
       "      <th>Brand</th>\n",
       "      <th>Model</th>\n",
       "      <th>CPU</th>\n",
       "      <th>RAM</th>\n",
       "      <th>Storage</th>\n",
       "      <th>Storage type</th>\n",
       "      <th>GPU</th>\n",
       "      <th>Screen</th>\n",
       "      <th>Touch</th>\n",
       "      <th>Final Price</th>\n",
       "    </tr>\n",
       "  </thead>\n",
       "  <tbody>\n",
       "    <tr>\n",
       "      <th>0</th>\n",
       "      <td>ASUS ExpertBook B1 B1502CBA-EJ0436X Intel Core...</td>\n",
       "      <td>New</td>\n",
       "      <td>Asus</td>\n",
       "      <td>ExpertBook</td>\n",
       "      <td>Intel Core i5</td>\n",
       "      <td>8</td>\n",
       "      <td>512</td>\n",
       "      <td>SSD</td>\n",
       "      <td>NaN</td>\n",
       "      <td>15.6</td>\n",
       "      <td>No</td>\n",
       "      <td>1009.00</td>\n",
       "    </tr>\n",
       "    <tr>\n",
       "      <th>1</th>\n",
       "      <td>Alurin Go Start Intel Celeron N4020/8GB/256GB ...</td>\n",
       "      <td>New</td>\n",
       "      <td>Alurin</td>\n",
       "      <td>Go</td>\n",
       "      <td>Intel Celeron</td>\n",
       "      <td>8</td>\n",
       "      <td>256</td>\n",
       "      <td>SSD</td>\n",
       "      <td>NaN</td>\n",
       "      <td>15.6</td>\n",
       "      <td>No</td>\n",
       "      <td>299.00</td>\n",
       "    </tr>\n",
       "    <tr>\n",
       "      <th>2</th>\n",
       "      <td>ASUS ExpertBook B1 B1502CBA-EJ0424X Intel Core...</td>\n",
       "      <td>New</td>\n",
       "      <td>Asus</td>\n",
       "      <td>ExpertBook</td>\n",
       "      <td>Intel Core i3</td>\n",
       "      <td>8</td>\n",
       "      <td>256</td>\n",
       "      <td>SSD</td>\n",
       "      <td>NaN</td>\n",
       "      <td>15.6</td>\n",
       "      <td>No</td>\n",
       "      <td>789.00</td>\n",
       "    </tr>\n",
       "    <tr>\n",
       "      <th>3</th>\n",
       "      <td>MSI Katana GF66 12UC-082XES Intel Core i7-1270...</td>\n",
       "      <td>New</td>\n",
       "      <td>MSI</td>\n",
       "      <td>Katana</td>\n",
       "      <td>Intel Core i7</td>\n",
       "      <td>16</td>\n",
       "      <td>1000</td>\n",
       "      <td>SSD</td>\n",
       "      <td>RTX 3050</td>\n",
       "      <td>15.6</td>\n",
       "      <td>No</td>\n",
       "      <td>1199.00</td>\n",
       "    </tr>\n",
       "    <tr>\n",
       "      <th>4</th>\n",
       "      <td>HP 15S-FQ5085NS Intel Core i5-1235U/16GB/512GB...</td>\n",
       "      <td>New</td>\n",
       "      <td>HP</td>\n",
       "      <td>15S</td>\n",
       "      <td>Intel Core i5</td>\n",
       "      <td>16</td>\n",
       "      <td>512</td>\n",
       "      <td>SSD</td>\n",
       "      <td>NaN</td>\n",
       "      <td>15.6</td>\n",
       "      <td>No</td>\n",
       "      <td>669.01</td>\n",
       "    </tr>\n",
       "  </tbody>\n",
       "</table>\n",
       "</div>"
      ],
      "text/plain": [
       "                                              Laptop Status   Brand  \\\n",
       "0  ASUS ExpertBook B1 B1502CBA-EJ0436X Intel Core...    New    Asus   \n",
       "1  Alurin Go Start Intel Celeron N4020/8GB/256GB ...    New  Alurin   \n",
       "2  ASUS ExpertBook B1 B1502CBA-EJ0424X Intel Core...    New    Asus   \n",
       "3  MSI Katana GF66 12UC-082XES Intel Core i7-1270...    New     MSI   \n",
       "4  HP 15S-FQ5085NS Intel Core i5-1235U/16GB/512GB...    New      HP   \n",
       "\n",
       "        Model            CPU  RAM  Storage Storage type       GPU  Screen  \\\n",
       "0  ExpertBook  Intel Core i5    8      512          SSD       NaN    15.6   \n",
       "1          Go  Intel Celeron    8      256          SSD       NaN    15.6   \n",
       "2  ExpertBook  Intel Core i3    8      256          SSD       NaN    15.6   \n",
       "3      Katana  Intel Core i7   16     1000          SSD  RTX 3050    15.6   \n",
       "4         15S  Intel Core i5   16      512          SSD       NaN    15.6   \n",
       "\n",
       "  Touch  Final Price  \n",
       "0    No      1009.00  \n",
       "1    No       299.00  \n",
       "2    No       789.00  \n",
       "3    No      1199.00  \n",
       "4    No       669.01  "
      ]
     },
     "execution_count": 3,
     "metadata": {},
     "output_type": "execute_result"
    }
   ],
   "source": [
    "url =  \"https://raw.githubusercontent.com/alexeygrigorev/datasets/master/laptops.csv\"\n",
    "\n",
    "data = pd.read_csv(url)\n",
    "\n",
    "data.head()"
   ]
  },
  {
   "cell_type": "code",
   "execution_count": 4,
   "id": "d730c6d3-31f5-4218-bda5-70c9f666c23b",
   "metadata": {},
   "outputs": [
    {
     "data": {
      "text/plain": [
       "Laptop           object\n",
       "Status           object\n",
       "Brand            object\n",
       "Model            object\n",
       "CPU              object\n",
       "RAM               int64\n",
       "Storage           int64\n",
       "Storage type     object\n",
       "GPU              object\n",
       "Screen          float64\n",
       "Touch            object\n",
       "Final Price     float64\n",
       "dtype: object"
      ]
     },
     "execution_count": 4,
     "metadata": {},
     "output_type": "execute_result"
    }
   ],
   "source": [
    "data.dtypes"
   ]
  },
  {
   "cell_type": "code",
   "execution_count": 5,
   "id": "ad372ed2-fc51-4d83-a4d3-b1fe11437836",
   "metadata": {},
   "outputs": [
    {
     "name": "stdout",
     "output_type": "stream",
     "text": [
      "Index(['laptop', 'status', 'brand', 'model', 'cpu', 'storage_type', 'gpu',\n",
      "       'touch'],\n",
      "      dtype='object') \n",
      "\n",
      "[dtype('O') dtype('O') dtype('O') dtype('O') dtype('O') dtype('O')\n",
      " dtype('O') dtype('O')]\n"
     ]
    }
   ],
   "source": [
    "df = data.copy()\n",
    "df.columns = df.columns.str.lower().str.replace(' ', '_')\n",
    "\n",
    "s = df.dtypes[df.dtypes == \"object\"]\n",
    "print(s.index, \"\\n\")\n",
    "print(s.values)"
   ]
  },
  {
   "cell_type": "code",
   "execution_count": 6,
   "id": "24a8d048-760f-4f57-a24b-e485d0ebea98",
   "metadata": {},
   "outputs": [],
   "source": [
    "strings = list(df.dtypes[df.dtypes == \"object\"].index)\n",
    "numeric = list(df.dtypes[df.dtypes != \"object\"].index)"
   ]
  },
  {
   "cell_type": "code",
   "execution_count": 7,
   "id": "8f035863-b822-42b3-a769-d96ab7c4a79d",
   "metadata": {},
   "outputs": [
    {
     "data": {
      "text/html": [
       "<div>\n",
       "<style scoped>\n",
       "    .dataframe tbody tr th:only-of-type {\n",
       "        vertical-align: middle;\n",
       "    }\n",
       "\n",
       "    .dataframe tbody tr th {\n",
       "        vertical-align: top;\n",
       "    }\n",
       "\n",
       "    .dataframe thead th {\n",
       "        text-align: right;\n",
       "    }\n",
       "</style>\n",
       "<table border=\"1\" class=\"dataframe\">\n",
       "  <thead>\n",
       "    <tr style=\"text-align: right;\">\n",
       "      <th></th>\n",
       "      <th>ram</th>\n",
       "      <th>storage</th>\n",
       "      <th>screen</th>\n",
       "      <th>final_price</th>\n",
       "    </tr>\n",
       "  </thead>\n",
       "  <tbody>\n",
       "    <tr>\n",
       "      <th>0</th>\n",
       "      <td>8</td>\n",
       "      <td>512</td>\n",
       "      <td>15.6</td>\n",
       "      <td>1009.00</td>\n",
       "    </tr>\n",
       "    <tr>\n",
       "      <th>1</th>\n",
       "      <td>8</td>\n",
       "      <td>256</td>\n",
       "      <td>15.6</td>\n",
       "      <td>299.00</td>\n",
       "    </tr>\n",
       "    <tr>\n",
       "      <th>2</th>\n",
       "      <td>8</td>\n",
       "      <td>256</td>\n",
       "      <td>15.6</td>\n",
       "      <td>789.00</td>\n",
       "    </tr>\n",
       "    <tr>\n",
       "      <th>3</th>\n",
       "      <td>16</td>\n",
       "      <td>1000</td>\n",
       "      <td>15.6</td>\n",
       "      <td>1199.00</td>\n",
       "    </tr>\n",
       "    <tr>\n",
       "      <th>4</th>\n",
       "      <td>16</td>\n",
       "      <td>512</td>\n",
       "      <td>15.6</td>\n",
       "      <td>669.01</td>\n",
       "    </tr>\n",
       "  </tbody>\n",
       "</table>\n",
       "</div>"
      ],
      "text/plain": [
       "   ram  storage  screen  final_price\n",
       "0    8      512    15.6      1009.00\n",
       "1    8      256    15.6       299.00\n",
       "2    8      256    15.6       789.00\n",
       "3   16     1000    15.6      1199.00\n",
       "4   16      512    15.6       669.01"
      ]
     },
     "execution_count": 7,
     "metadata": {},
     "output_type": "execute_result"
    }
   ],
   "source": [
    "df = df[numeric]\n",
    "df.head()"
   ]
  },
  {
   "cell_type": "code",
   "execution_count": 8,
   "id": "1fdbf83a-026b-4ad4-9634-ea53c14dfd02",
   "metadata": {},
   "outputs": [
    {
     "name": "stdout",
     "output_type": "stream",
     "text": [
      "ram\n",
      "[  8  16  32  12   4  64 128   6  40]\n",
      "no. of unique values: 9 \n",
      "\n",
      "storage\n",
      "[ 512  256 1000   64  128]\n",
      "no. of unique values: 12 \n",
      "\n",
      "screen\n",
      "[15.6 17.3 14.  16.1 13.3]\n",
      "no. of unique values: 29 \n",
      "\n",
      "final_price\n",
      "[1009.    299.    789.   1199.    669.01]\n",
      "no. of unique values: 1440 \n",
      "\n"
     ]
    }
   ],
   "source": [
    "for col in df.columns:\n",
    "    print(col)\n",
    "    if len(df[col].unique()) > 10:\n",
    "        print(df[col].unique()[:5])\n",
    "        print(\"no. of unique values:\",df[col].nunique(),\"\\n\")\n",
    "    else:\n",
    "        print(df[col].unique())\n",
    "        print(\"no. of unique values:\",df[col].nunique(),\"\\n\")"
   ]
  },
  {
   "cell_type": "code",
   "execution_count": 9,
   "id": "cae2fc37-0d09-4cac-94fe-2feda23e79e2",
   "metadata": {},
   "outputs": [],
   "source": [
    "import matplotlib.pyplot as plt\n",
    "import seaborn as sns\n",
    "\n",
    "%matplotlib inline"
   ]
  },
  {
   "cell_type": "code",
   "execution_count": 10,
   "id": "abdbc30d-a484-4925-b395-f055f49cd77c",
   "metadata": {},
   "outputs": [
    {
     "data": {
      "image/png": "[encoded data removed]",
      "text/plain": [
       "<Figure size 640x480 with 1 Axes>"
      ]
     },
     "metadata": {},
     "output_type": "display_data"
    }
   ],
   "source": [
    "# Data is right-skewed (long tailed) so we will need to evaluate the log-transformation\n",
    "sns.histplot(df.final_price, bins=50, color=\"red\")\n",
    "\n",
    "plt.show()"
   ]
  },
  {
   "cell_type": "code",
   "execution_count": 11,
   "id": "5fe444c9-a0b9-4f8a-8ef5-748aae9d4bbb",
   "metadata": {},
   "outputs": [
    {
     "data": {
      "image/png": "[encoded data removed]",
      "text/plain": [
       "<Figure size 640x480 with 1 Axes>"
      ]
     },
     "metadata": {},
     "output_type": "display_data"
    }
   ],
   "source": [
    "price_logs = np.log1p(df.final_price)\n",
    "\n",
    "sns.histplot(price_logs, bins=50, color=\"red\")\n",
    "\n",
    "plt.show()"
   ]
  },
  {
   "cell_type": "markdown",
   "id": "a429a4ce-555a-4539-80fb-85fa737927c7",
   "metadata": {},
   "source": [
    "### Question 1"
   ]
  },
  {
   "cell_type": "code",
   "execution_count": 12,
   "id": "211b843c-0f9c-4003-b0db-2c6635e23555",
   "metadata": {},
   "outputs": [
    {
     "data": {
      "text/plain": [
       "screen    4\n",
       "dtype: int64"
      ]
     },
     "execution_count": 12,
     "metadata": {},
     "output_type": "execute_result"
    }
   ],
   "source": [
    "df.isnull().sum()[df.isnull().sum() != 0]"
   ]
  },
  {
   "cell_type": "markdown",
   "id": "a6c62669-12ba-4464-8996-099391dbe356",
   "metadata": {},
   "source": [
    "column with missing values: 'screen'"
   ]
  },
  {
   "cell_type": "markdown",
   "id": "7416a9b0-7f97-4fef-aa82-83d79d198636",
   "metadata": {},
   "source": [
    "### Question 2"
   ]
  },
  {
   "cell_type": "code",
   "execution_count": 13,
   "id": "649628aa-f460-4b7c-b91f-a8f0b7aca1c9",
   "metadata": {},
   "outputs": [
    {
     "data": {
      "text/plain": [
       "16.0"
      ]
     },
     "execution_count": 13,
     "metadata": {},
     "output_type": "execute_result"
    }
   ],
   "source": [
    "df.ram.median()"
   ]
  },
  {
   "cell_type": "code",
   "execution_count": 14,
   "id": "96836833-9364-4e69-829e-9d2ed379ce08",
   "metadata": {},
   "outputs": [
    {
     "data": {
      "text/plain": [
       "2160"
      ]
     },
     "execution_count": 14,
     "metadata": {},
     "output_type": "execute_result"
    }
   ],
   "source": [
    "len(df)"
   ]
  },
  {
   "cell_type": "markdown",
   "id": "5c1d36da-fa33-48c4-9a69-d25d476c9c46",
   "metadata": {},
   "source": [
    "### Preparing the dataframe"
   ]
  },
  {
   "cell_type": "code",
   "execution_count": 20,
   "id": "4017a5a4-6479-4d02-8fbf-112cec6786e8",
   "metadata": {},
   "outputs": [],
   "source": [
    "n = len(df)\n",
    "\n",
    "n_val = int(0.2 * n)\n",
    "n_test = int(0.2 * n)\n",
    "n_train = n - n_val -n_test\n",
    "\n",
    "idx = np.arange(n)\n",
    "np.random.seed(42)\n",
    "np.random.shuffle(idx)\n",
    "\n",
    "df_train = df.iloc[idx[:n_train]]\n",
    "df_val = df.iloc[idx[n_train:n_train+n_val]]\n",
    "df_test = df.iloc[idx[n_train+n_val:]]\n",
    "\n",
    "df_train = df_train.reset_index(drop=True)\n",
    "df_val = df_val.reset_index(drop=True)\n",
    "df_test = df_test.reset_index(drop=True)\n",
    "\n",
    "y_train = df_train.final_price.values\n",
    "y_val = df_val.final_price.values\n",
    "y_test = df_test.final_price.values\n",
    "\n",
    "del df_train['final_price']\n",
    "del df_val['final_price']\n",
    "del df_test['final_price']"
   ]
  },
  {
   "cell_type": "code",
   "execution_count": 21,
   "id": "53c2a844-03db-4c8b-93c3-094e2eb91ba6",
   "metadata": {},
   "outputs": [],
   "source": [
    "def train_linear_regression(X, y):\n",
    "    ones = np.ones(X.shape[0])\n",
    "    X = np.column_stack([ones, X])\n",
    "\n",
    "    XTX = X.T.dot(X)\n",
    "    XTX_inv = np.linalg.inv(XTX)\n",
    "    w_full = XTX_inv.dot(X.T).dot(y)\n",
    "    \n",
    "    return w_full[0], w_full[1:]\n",
    "\n",
    "\n",
    "def rmse(y, y_pred):\n",
    "    se = (y - y_pred) ** 2\n",
    "    mse = se.mean()\n",
    "    return np.sqrt(mse)"
   ]
  },
  {
   "cell_type": "markdown",
   "id": "30818097-6205-4a4a-8569-e25c39a58992",
   "metadata": {},
   "source": [
    "### Question 3"
   ]
  },
  {
   "cell_type": "markdown",
   "id": "27f167b1-652a-49f6-a09e-5a0497140fae",
   "metadata": {},
   "source": [
    "### RMSE (filling the missing values of 'screen' with 0s vs. with the mean value) \"without regularization\""
   ]
  },
  {
   "cell_type": "markdown",
   "id": "73e8da67-0860-45cc-9e35-a49bbb54f616",
   "metadata": {},
   "source": [
    "### 01. filling missing values with 0"
   ]
  },
  {
   "cell_type": "code",
   "execution_count": 22,
   "id": "15930fd0-df6a-4ff5-a4fa-401e87cd9335",
   "metadata": {},
   "outputs": [
    {
     "data": {
      "text/plain": [
       "ram        0\n",
       "storage    0\n",
       "screen     3\n",
       "dtype: int64"
      ]
     },
     "execution_count": 22,
     "metadata": {},
     "output_type": "execute_result"
    }
   ],
   "source": [
    "df_train.isnull().sum()"
   ]
  },
  {
   "cell_type": "code",
   "execution_count": 23,
   "id": "9295e712-30c2-4e4e-93ad-8f66cc735ba2",
   "metadata": {},
   "outputs": [
    {
     "name": "stdout",
     "output_type": "stream",
     "text": [
      "      ram  storage  screen\n",
      "124    16      512     NaN\n",
      "1062   16      512     NaN\n",
      "1238    8      256     NaN\n"
     ]
    }
   ],
   "source": [
    "rows_with_missing_values = df_train[df_train.isnull().any(axis=1)]\n",
    "print(rows_with_missing_values)\n",
    "indexes_of_rows_with_missing_values = rows_with_missing_values.index.tolist()"
   ]
  },
  {
   "cell_type": "code",
   "execution_count": 26,
   "id": "866642b4-5193-4e5d-b1e5-aa1d8c73b96f",
   "metadata": {},
   "outputs": [],
   "source": [
    "def prepare_X(df):\n",
    "    df_num = df.copy()\n",
    "    return df_num.fillna(0).values\n",
    "\n",
    "X_train = prepare_X(df_train)"
   ]
  },
  {
   "cell_type": "code",
   "execution_count": 27,
   "id": "5deeac5e-f535-4414-b381-14adf8c49d6d",
   "metadata": {},
   "outputs": [
    {
     "name": "stdout",
     "output_type": "stream",
     "text": [
      "Rows with missing values after filling them:\n",
      "[[ 16. 512.   0.]\n",
      " [ 16. 512.   0.]\n",
      " [  8. 256.   0.]]\n",
      "\n",
      "RMSE: 597.36\n"
     ]
    }
   ],
   "source": [
    "print(\"Rows with missing values after filling them:\")\n",
    "print(X_train[indexes_of_rows_with_missing_values])\n",
    "\n",
    "w0, w = train_linear_regression(X_train, y_train)\n",
    "\n",
    "X_val = prepare_X(df_val)\n",
    "y_pred = w0 + X_val.dot(w)\n",
    "\n",
    "rmse_with_zero = round(rmse(y_val, y_pred), 2).item()\n",
    "print(f\"\\nRMSE: {rmse_with_zero}\")"
   ]
  },
  {
   "cell_type": "markdown",
   "id": "049a8a2b-61d5-4ebd-880b-a3653661a994",
   "metadata": {},
   "source": [
    "### 02. filling missing values with the mean"
   ]
  },
  {
   "cell_type": "code",
   "execution_count": 28,
   "id": "1ef4b3cd-ada3-4191-96c6-84427b021fa5",
   "metadata": {},
   "outputs": [
    {
     "name": "stdout",
     "output_type": "stream",
     "text": [
      "Rows with missing values after filling them:\n",
      "[[ 16.         512.          15.16353442]\n",
      " [ 16.         512.          15.16353442]\n",
      " [  8.         256.          15.16353442]]\n"
     ]
    }
   ],
   "source": [
    "# need to change attributes: X_train_mean, X_val_mean\n",
    "df_train_screen_mean = df_train['screen'].mean()\n",
    "\n",
    "def prepare_X_mean(df):\n",
    "    df_num = df.copy()\n",
    "    return df_num.fillna(df_train_screen_mean).values\n",
    "\n",
    "X_train_mean = prepare_X_mean(df_train)\n",
    "print(\"Rows with missing values after filling them:\")\n",
    "print(X_train_mean[indexes_of_rows_with_missing_values])"
   ]
  },
  {
   "cell_type": "code",
   "execution_count": 29,
   "id": "d261f6d9-9793-4c0c-9b3a-9f410b1bb074",
   "metadata": {},
   "outputs": [
    {
     "name": "stdout",
     "output_type": "stream",
     "text": [
      "\n",
      "RMSE: 600.27\n"
     ]
    }
   ],
   "source": [
    "w0_mean, w_mean = train_linear_regression(X_train_mean, y_train)\n",
    "X_val_mean = prepare_X_mean(df_val)\n",
    "\n",
    "y_pred_mean = w0_mean + X_val_mean.dot(w_mean)\n",
    "\n",
    "rmse_with_mean = round(rmse(y_val, y_pred_mean), 2).item()\n",
    "print(f\"\\nRMSE: {rmse_with_mean}\")"
   ]
  },
  {
   "cell_type": "code",
   "execution_count": 31,
   "id": "dcfbcaa3-00df-4531-8af8-b8d57cbcacac",
   "metadata": {},
   "outputs": [
    {
     "name": "stdout",
     "output_type": "stream",
     "text": [
      "With 0 gives better results.\n"
     ]
    }
   ],
   "source": [
    "if rmse_with_zero < rmse_with_mean:\n",
    "    print(\"With 0 gives better results.\")\n",
    "elif rmse_with_zero > rmse_with_mean:\n",
    "    print(\"With mean gives better results.\")   \n",
    "else:\n",
    "    print(\"Both are equally good.\")    "
   ]
  },
  {
   "cell_type": "markdown",
   "id": "a67f4ca6-90f1-41ad-903f-7ddfd5497494",
   "metadata": {},
   "source": [
    "### Question 4"
   ]
  },
  {
   "cell_type": "code",
   "execution_count": 39,
   "id": "d284637b-eaa8-4088-bc8f-3b2c8cdadfe9",
   "metadata": {},
   "outputs": [],
   "source": [
    "def train_linear_regression_reg(X, y, r):\n",
    "    ones = np.ones(X.shape[0])\n",
    "    X = np.column_stack([ones, X])\n",
    "\n",
    "    XTX = X.T.dot(X)\n",
    "    XTX = XTX + r * np.eye(XTX.shape[0])\n",
    "\n",
    "    XTX_inv = np.linalg.inv(XTX)\n",
    "    w_full = XTX_inv.dot(X.T).dot(y)\n",
    "    \n",
    "    return w_full[0], w_full[1:]"
   ]
  },
  {
   "cell_type": "code",
   "execution_count": 40,
   "id": "6db7e2f1-c468-4b00-8c6f-113177b6ab62",
   "metadata": {},
   "outputs": [
    {
     "name": "stdout",
     "output_type": "stream",
     "text": [
      "Rows with missing values after filling them:\n",
      "[[ 16. 512.   0.]\n",
      " [ 16. 512.   0.]\n",
      " [  8. 256.   0.]]\n"
     ]
    }
   ],
   "source": [
    "X_train_reg = prepare_X(df_train)\n",
    "print(\"Rows with missing values after filling them:\")\n",
    "print(X_train_reg[indexes_of_rows_with_missing_values])"
   ]
  },
  {
   "cell_type": "code",
   "execution_count": 43,
   "id": "09111639-09dd-42df-9c25-b4aa029db224",
   "metadata": {},
   "outputs": [
    {
     "name": "stdout",
     "output_type": "stream",
     "text": [
      "\n",
      "RMSE: 600.27 For value of r = 0.001\n"
     ]
    }
   ],
   "source": [
    "r_used = 0.001\n",
    "\n",
    "w0_reg, w_reg = train_linear_regression_reg(X_train_reg, y_train, r_used)\n",
    "X_val_reg = prepare_X(df_val)\n",
    "\n",
    "y_pred_reg = w0_reg + X_val_reg.dot(w_reg)\n",
    "\n",
    "rmse_with_reg = round(rmse(y_val, y_pred_reg), 2).item()\n",
    "print(f\"\\nRMSE: {rmse_with_mean} For value of r = {r_used}\")"
   ]
  },
  {
   "cell_type": "code",
   "execution_count": 76,
   "id": "47abb35f-cf1c-4e90-b0dc-56b1c9a681db",
   "metadata": {},
   "outputs": [
    {
     "name": "stdout",
     "output_type": "stream",
     "text": [
      "\n",
      "RMSE: 597.36 For value of r = 0\n",
      "\n",
      "RMSE: 597.36 For value of r = 0.01\n",
      "\n",
      "RMSE: 597.35 For value of r = 0.1\n",
      "\n",
      "RMSE: 597.21 For value of r = 1\n",
      "\n",
      "RMSE: 597.06 For value of r = 10\n",
      "\n",
      "RMSE: 597.9 For value of r = 100\n",
      "\n",
      "The smallest RMSE value = 597.06\n"
     ]
    }
   ],
   "source": [
    "X_train_reg = prepare_X(df_train)\n",
    "X_val_reg = prepare_X(df_val)\n",
    "\n",
    "r_list = [0, 0.01, 0.1, 1,  10, 100]\n",
    "scores = []\n",
    "\n",
    "for r in r_list:\n",
    "\n",
    "    w0_reg, w_reg = train_linear_regression_reg(X_train_reg, y_train, r)\n",
    "    \n",
    "    y_pred_reg = w0_reg + X_val_reg.dot(w_reg)\n",
    "    \n",
    "    rmse_with_reg = round(rmse(y_val, y_pred_reg), 2).item()\n",
    "\n",
    "    scores.append(rmse_with_reg)\n",
    "    print(f\"\\nRMSE: {rmse_with_reg} For value of r = {r}\")\n",
    "\n",
    "print(f\"\\nThe smallest RMSE value = {min(scores)}\")"
   ]
  },
  {
   "cell_type": "code",
   "execution_count": 77,
   "id": "fe574eba-155f-4037-a3e6-61e360c6f395",
   "metadata": {},
   "outputs": [
    {
     "data": {
      "text/plain": [
       "r         10.00\n",
       "score    597.06\n",
       "Name: 4, dtype: float64"
      ]
     },
     "execution_count": 77,
     "metadata": {},
     "output_type": "execute_result"
    }
   ],
   "source": [
    "r_num = np.array(r_list)\n",
    "scores_num = np.array(scores)\n",
    "\n",
    "scores_df = pd.DataFrame({\"r\": r_num, \"score\" : scores_num})\n",
    "scores_df.loc[scores_df[\"score\"].idxmin()]  "
   ]
  },
  {
   "cell_type": "markdown",
   "id": "e5d89fe3-af9e-4256-87fe-c19bde81c68f",
   "metadata": {},
   "source": [
    "### Question 5"
   ]
  },
  {
   "cell_type": "code",
   "execution_count": 78,
   "id": "be1ebc31-9f25-41d6-9270-8e54b2945705",
   "metadata": {},
   "outputs": [],
   "source": [
    "def prepare_data(df, s):\n",
    "\n",
    "    n = len(df)\n",
    "\n",
    "    n_val = int(0.2 * n)\n",
    "    n_test = int(0.2 * n)\n",
    "    n_train = n - n_val - n_test\n",
    "    \n",
    "    idx = np.arange(n)\n",
    "    np.random.seed(s)\n",
    "    np.random.shuffle(idx)\n",
    "    \n",
    "    df_train = df.iloc[idx[:n_train]]\n",
    "    df_val = df.iloc[idx[n_train:n_train+n_val]]\n",
    "    df_test = df.iloc[idx[n_train+n_val:]]\n",
    "    \n",
    "    df_train = df_train.reset_index(drop=True)\n",
    "    df_val = df_val.reset_index(drop=True)\n",
    "    df_test = df_test.reset_index(drop=True)\n",
    "    \n",
    "    y_train = df_train.final_price.values\n",
    "    y_val = df_val.final_price.values\n",
    "    y_test = df_test.final_price.values\n",
    "\n",
    "    del df_train['final_price']\n",
    "    del df_val['final_price']\n",
    "    del df_test['final_price']\n",
    "\n",
    "\n",
    "    return df_train, df_val, df_test, y_train, y_val, y_test"
   ]
  },
  {
   "cell_type": "code",
   "execution_count": 79,
   "id": "8c0263f7-adc6-40f7-82f8-dda9917d15b3",
   "metadata": {},
   "outputs": [
    {
     "name": "stdout",
     "output_type": "stream",
     "text": [
      "\n",
      "RMSE: 565.45\n",
      "\n",
      "RMSE: 636.8\n",
      "\n",
      "RMSE: 588.96\n",
      "\n",
      "RMSE: 597.81\n",
      "\n",
      "RMSE: 571.96\n",
      "\n",
      "RMSE: 573.24\n",
      "\n",
      "RMSE: 647.34\n",
      "\n",
      "RMSE: 550.44\n",
      "\n",
      "RMSE: 587.33\n",
      "\n",
      "RMSE: 576.1\n"
     ]
    }
   ],
   "source": [
    "seeds = [0, 1, 2, 3, 4, 5, 6, 7, 8, 9]\n",
    "scores_seed = []\n",
    "\n",
    "for seed in seeds:\n",
    "    df_train_seed, df_val_seed, df_test_seed, y_train_seed, y_val_seed, y_test_seed = prepare_data(df, s=seed)\n",
    "    \n",
    "    X_train_seed = prepare_X(df_train_seed)\n",
    "    X_val_seed = prepare_X(df_val_seed)\n",
    "    \n",
    "    w0_seed, w_seed = train_linear_regression(X_train_seed, y_train_seed)\n",
    "    X_val_seed = prepare_X(df_val_seed)\n",
    "    \n",
    "    y_pred_seed = w0_seed + X_val_seed.dot(w_seed)\n",
    "    \n",
    "    rmse_with_diff_seed = round(rmse(y_val_seed, y_pred_seed), 2).item()\n",
    "\n",
    "    scores_seed.append(rmse_with_diff_seed)\n",
    "    print(f\"\\nRMSE: {rmse_with_diff_seed}\")"
   ]
  },
  {
   "cell_type": "code",
   "execution_count": 83,
   "id": "4d8e665a-bfaa-47ee-9ed2-f33dd6f1952f",
   "metadata": {},
   "outputs": [
    {
     "data": {
      "text/plain": [
       "29.176"
      ]
     },
     "execution_count": 83,
     "metadata": {},
     "output_type": "execute_result"
    }
   ],
   "source": [
    "scores_seed_num = np.array(scores_seed)\n",
    "\n",
    "round(scores_seed_num.std(), 3)"
   ]
  },
  {
   "cell_type": "markdown",
   "id": "a08838f2-ef41-41ff-8347-087b1f5e2603",
   "metadata": {},
   "source": [
    "### Question 6"
   ]
  },
  {
   "cell_type": "code",
   "execution_count": 84,
   "id": "273df2b8-f4de-402d-8852-fdaf0b2d8174",
   "metadata": {},
   "outputs": [],
   "source": [
    "df_train_6, df_val_6, df_test_6, y_train_6, y_val_6, y_test_6 = prepare_data(df, s=9)"
   ]
  },
  {
   "cell_type": "code",
   "execution_count": 87,
   "id": "8f2b02b5-5e29-4393-a2f6-5d4297556abb",
   "metadata": {},
   "outputs": [
    {
     "data": {
      "text/plain": [
       "array([1592.89, 1349.  ,  549.  , ...,  429.01, 1599.  , 4999.01])"
      ]
     },
     "execution_count": 87,
     "metadata": {},
     "output_type": "execute_result"
    }
   ],
   "source": [
    "y_train_6"
   ]
  },
  {
   "cell_type": "code",
   "execution_count": 91,
   "id": "c2defd87-07bd-41fa-b332-d196e3badf83",
   "metadata": {},
   "outputs": [
    {
     "data": {
      "text/plain": [
       "608.61"
      ]
     },
     "execution_count": 91,
     "metadata": {},
     "output_type": "execute_result"
    }
   ],
   "source": [
    "df_train_val_full = pd.concat([df_train_6, df_val_6], axis=0)\n",
    "y_train_val_full = np.concatenate((y_train_6, y_val_6))\n",
    "\n",
    "X_train_val_full = prepare_X(df_train_val_full)\n",
    "X_test = prepare_X(df_test_6)\n",
    "\n",
    "w0_6, w_6 = train_linear_regression_reg(X_train_val_full, y_train_val_full, r=0.001)\n",
    "\n",
    "y_pred_6 = w0_6 + X_test.dot(w_6)\n",
    "\n",
    "rmse_with_diff_seed = round(rmse(y_test_6, y_pred_6), 2).item()\n",
    "\n",
    "rmse_with_diff_seed"
   ]
  },
  {
   "cell_type": "markdown",
   "id": "79ba34f1-bead-400e-9304-329a7c0089b1",
   "metadata": {},
   "source": [
    "### Question 6"
   ]
  },
  {
   "cell_type": "code",
   "execution_count": 75,
   "id": "f96d9635-745b-4fec-b54f-e78b06acdf91",
   "metadata": {},
   "outputs": [],
   "source": [
    "w0_zeros, w_zeros = train_linear_regression(X_train_zeros, y_train)\n",
    "y_pred_zeros = w0_zeros + X_train_zeros.dot(w_zeros)\n",
    " \n",
    "w0_mean, w_mean = train_linear_regression(X_train_mean, y_train)\n",
    "y_pred_mean = w0_mean + X_train_mean.dot(w_mean)"
   ]
  },
  {
   "cell_type": "code",
   "execution_count": 76,
   "id": "aaa74e06-3620-481f-a35f-3e5abfbf6979",
   "metadata": {},
   "outputs": [],
   "source": [
    "def rmse(y, y_pred):\n",
    "    se = (y - y_pred) ** 2\n",
    "    mse = se.mean()\n",
    "    return np.sqrt(mse)"
   ]
  },
  {
   "cell_type": "code",
   "execution_count": 79,
   "id": "7fb2c8f2-952a-4783-8d55-a4997cd274dd",
   "metadata": {},
   "outputs": [
    {
     "data": {
      "text/plain": [
       "0.45"
      ]
     },
     "execution_count": 79,
     "metadata": {},
     "output_type": "execute_result"
    }
   ],
   "source": [
    "round(rmse(y_train, y_pred_zeros), 2)"
   ]
  },
  {
   "cell_type": "code",
   "execution_count": 80,
   "id": "24681b15-32d2-4ae8-931c-18e1a9be3f83",
   "metadata": {},
   "outputs": [
    {
     "data": {
      "text/plain": [
       "0.45"
      ]
     },
     "execution_count": 80,
     "metadata": {},
     "output_type": "execute_result"
    }
   ],
   "source": [
    "round(rmse(y_train, y_pred_mean),2)"
   ]
  },
  {
   "cell_type": "markdown",
   "id": "d95ee39c-4a2f-4486-b17e-2bbac97ca5a1",
   "metadata": {},
   "source": [
    "### "
   ]
  },
  {
   "cell_type": "markdown",
   "id": "e2d2dd6c-0dd8-4870-b5b1-e7b3453c67cf",
   "metadata": {},
   "source": [
    "### "
   ]
  },
  {
   "cell_type": "markdown",
   "id": "8469f1ab-a7f2-419a-9164-c6a81f4c7595",
   "metadata": {},
   "source": [
    "### BBBBB"
   ]
  },
  {
   "cell_type": "markdown",
   "id": "66a8c81d-8d02-4495-91a0-0e18aa0b4b03",
   "metadata": {},
   "source": [
    "### "
   ]
  },
  {
   "cell_type": "markdown",
   "id": "f7beecaa-b7e2-43b0-a48e-951edc156ad6",
   "metadata": {},
   "source": [
    "### result: Both are equally good"
   ]
  },
  {
   "cell_type": "code",
   "execution_count": 81,
   "id": "78496f9c-7c5e-4da3-9d9e-596f153a0982",
   "metadata": {},
   "outputs": [
    {
     "data": {
      "text/plain": [
       "6.727163706116559"
      ]
     },
     "execution_count": 81,
     "metadata": {},
     "output_type": "execute_result"
    }
   ],
   "source": [
    "w0_zeros"
   ]
  },
  {
   "cell_type": "code",
   "execution_count": 82,
   "id": "39b12972-d266-4324-8061-b05b00a73eb8",
   "metadata": {},
   "outputs": [
    {
     "data": {
      "text/plain": [
       "array([ 0.02630589,  0.00066041, -0.03651909])"
      ]
     },
     "execution_count": 82,
     "metadata": {},
     "output_type": "execute_result"
    }
   ],
   "source": [
    "w_zeros"
   ]
  },
  {
   "cell_type": "code",
   "execution_count": 83,
   "id": "435604f9-e127-4208-bcfd-a3dde1a90a16",
   "metadata": {},
   "outputs": [
    {
     "data": {
      "text/plain": [
       "6.855566544140346"
      ]
     },
     "execution_count": 83,
     "metadata": {},
     "output_type": "execute_result"
    }
   ],
   "source": [
    "w0_mean"
   ]
  },
  {
   "cell_type": "code",
   "execution_count": 84,
   "id": "3ad94822-6b77-41a1-880a-3b75a8dc036a",
   "metadata": {},
   "outputs": [
    {
     "data": {
      "text/plain": [
       "array([ 0.02650252,  0.00066643, -0.04534341])"
      ]
     },
     "execution_count": 84,
     "metadata": {},
     "output_type": "execute_result"
    }
   ],
   "source": [
    "w_mean"
   ]
  },
  {
   "cell_type": "code",
   "execution_count": 85,
   "id": "780e576c-eb63-43fc-ab98-879791b9e169",
   "metadata": {},
   "outputs": [],
   "source": [
    "# With regularization\n",
    "def train_linear_regression_reg(X, y, r=0.001):\n",
    "    ones = np.ones(X.shape[0])\n",
    "    X = np.column_stack([ones, X])\n",
    "\n",
    "    XTX = X.T.dot(X)\n",
    "    XTX = XTX + r * np.eye(XTX.shape[0])\n",
    "\n",
    "    XTX_inv = np.linalg.inv(XTX)\n",
    "    w_full = XTX_inv.dot(X.T).dot(y)\n",
    "    \n",
    "    return w_full[0], w_full[1:]"
   ]
  },
  {
   "cell_type": "code",
   "execution_count": 86,
   "id": "47359686-6042-458e-b6ad-ff3419d8b247",
   "metadata": {},
   "outputs": [
    {
     "data": {
      "text/plain": [
       "ram        0\n",
       "storage    0\n",
       "screen     3\n",
       "dtype: int64"
      ]
     },
     "execution_count": 86,
     "metadata": {},
     "output_type": "execute_result"
    }
   ],
   "source": [
    "df_train.isnull().sum()"
   ]
  },
  {
   "cell_type": "code",
   "execution_count": 90,
   "id": "dc460d91-f455-438f-bf34-91ee1d9e91d1",
   "metadata": {},
   "outputs": [
    {
     "data": {
      "text/plain": [
       "ram        0\n",
       "storage    0\n",
       "screen     0\n",
       "dtype: int64"
      ]
     },
     "execution_count": 90,
     "metadata": {},
     "output_type": "execute_result"
    }
   ],
   "source": [
    "df_train.isnull().sum()"
   ]
  },
  {
   "cell_type": "code",
   "execution_count": 93,
   "id": "85cad0da-2fbd-4f00-96ce-0dc9b255226c",
   "metadata": {},
   "outputs": [
    {
     "data": {
      "text/plain": [
       "ram        0\n",
       "storage    0\n",
       "screen     1\n",
       "dtype: int64"
      ]
     },
     "execution_count": 93,
     "metadata": {},
     "output_type": "execute_result"
    }
   ],
   "source": [
    "df_val.isnull().sum()"
   ]
  },
  {
   "cell_type": "code",
   "execution_count": 94,
   "id": "38fbf448-c551-4669-a97f-2c2f857328ca",
   "metadata": {},
   "outputs": [
    {
     "name": "stderr",
     "output_type": "stream",
     "text": [
      "C:\\Users\\MUHAMMED IBRAHIM\\AppData\\Local\\Temp\\ipykernel_9832\\1426529302.py:1: SettingWithCopyWarning: \n",
      "A value is trying to be set on a copy of a slice from a DataFrame.\n",
      "Try using .loc[row_indexer,col_indexer] = value instead\n",
      "\n",
      "See the caveats in the documentation: https://pandas.pydata.org/pandas-docs/stable/user_guide/indexing.html#returning-a-view-versus-a-copy\n",
      "  df_val['screen'] = df_val['screen'].fillna(0)\n"
     ]
    }
   ],
   "source": [
    "df_val['screen'] = df_val['screen'].fillna(0)"
   ]
  },
  {
   "cell_type": "code",
   "execution_count": 95,
   "id": "21649dc6-27c5-4091-85f1-f2de45a9afaf",
   "metadata": {},
   "outputs": [
    {
     "data": {
      "text/plain": [
       "ram        0\n",
       "storage    0\n",
       "screen     0\n",
       "dtype: int64"
      ]
     },
     "execution_count": 95,
     "metadata": {},
     "output_type": "execute_result"
    }
   ],
   "source": [
    "df_val.isnull().sum()"
   ]
  },
  {
   "cell_type": "code",
   "execution_count": 96,
   "id": "d4adc592-0715-48b7-934f-0e3257a89256",
   "metadata": {},
   "outputs": [],
   "source": [
    "X_train = df_train.values\n",
    "X_val = df_val.values"
   ]
  },
  {
   "cell_type": "code",
   "execution_count": 102,
   "id": "192d44d4-64eb-4e76-be18-a8ff46bfc6a1",
   "metadata": {},
   "outputs": [
    {
     "data": {
      "text/plain": [
       "0.43"
      ]
     },
     "execution_count": 102,
     "metadata": {},
     "output_type": "execute_result"
    }
   ],
   "source": [
    "w0, w = train_linear_regression_reg(X_train, y_train, r=0.01)\n",
    "\n",
    "y_pred = w0 + X_val.dot(w)\n",
    "round(rmse(y_val, y_pred), 2)"
   ]
  },
  {
   "cell_type": "code",
   "execution_count": 103,
   "id": "0a37cff6-0d16-4314-9612-f13388f0aa58",
   "metadata": {},
   "outputs": [
    {
     "name": "stdout",
     "output_type": "stream",
     "text": [
      "0.0 6.727163706116559 0.4288635315474399\n",
      "1e-05 6.727157541080534 0.4288635193013878\n",
      "0.0001 6.7271020562686665 0.42886340911857396\n",
      "0.001 6.726547258699545 0.4288623104219867\n",
      "0.01 6.721004333264144 0.428851636053407\n",
      "0.1 6.666075503831725 0.4287756009707556\n",
      "1 6.162616499463823 0.43059329897431\n",
      "10 3.516754720793905 0.5075657769236755\n"
     ]
    }
   ],
   "source": [
    "for r in [0.0, 0.00001, 0.0001, 0.001, 0.01, 0.1, 1, 10]:\n",
    "    w0, w = train_linear_regression_reg(X_train, y_train, r=r)\n",
    "\n",
    "    y_pred = w0 + X_val.dot(w)\n",
    "    score = rmse(y_val, y_pred)\n",
    "    \n",
    "    print(r, w0, score)"
   ]
  },
  {
   "cell_type": "markdown",
   "id": "817acad7-2c1e-4e39-8bbb-892f673dc718",
   "metadata": {},
   "source": [
    "### Smallest RMSE = 0.4287756009707556  for (r = 0.1) "
   ]
  },
  {
   "cell_type": "code",
   "execution_count": null,
   "id": "7c992501-d706-49fc-bd85-aeaf211e7e1a",
   "metadata": {},
   "outputs": [],
   "source": []
  }
 ],
 "metadata": {
  "kernelspec": {
   "display_name": "Python 3 (ipykernel)",
   "language": "python",
   "name": "python3"
  },
  "language_info": {
   "codemirror_mode": {
    "name": "ipython",
    "version": 3
   },
   "file_extension": ".py",
   "mimetype": "text/x-python",
   "name": "python",
   "nbconvert_exporter": "python",
   "pygments_lexer": "ipython3",
   "version": "3.12.7"
  }
 },
 "nbformat": 4,
 "nbformat_minor": 5
}
