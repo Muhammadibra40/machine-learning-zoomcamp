{
 "cells": [
  {
   "cell_type": "code",
   "execution_count": 1,
   "id": "ff74819c-6b53-46b3-8fcc-316477167a76",
   "metadata": {},
   "outputs": [],
   "source": [
    "import pandas as pd"
   ]
  },
  {
   "cell_type": "code",
   "execution_count": null,
   "id": "3743d66a-6f61-4564-b096-ec6c716b84e6",
   "metadata": {},
   "outputs": [],
   "source": [
    "data = pd.read_csv(\"https://raw.githubusercontent.com/alexeygrigorev/datasets/master/car_fuel_efficiency.csv\")\n",
    "df = data"
   ]
  },
  {
   "cell_type": "code",
   "execution_count": null,
   "id": "6b0e970d-1cd7-4811-b873-d7539f3e8005",
   "metadata": {},
   "outputs": [],
   "source": [
    "df.head()"
   ]
  },
  {
   "cell_type": "code",
   "execution_count": 8,
   "id": "a3fee5a0-8dc3-49c1-ab1a-b2af4c5616ed",
   "metadata": {},
   "outputs": [
    {
     "data": {
      "text/plain": [
       "9704"
      ]
     },
     "execution_count": 8,
     "metadata": {},
     "output_type": "execute_result"
    }
   ],
   "source": [
    "# 9704 records in the dataset\n",
    "len(df)"
   ]
  },
  {
   "cell_type": "code",
   "execution_count": 12,
   "id": "a7b19d24-44b0-4997-9115-73ad04abb1d8",
   "metadata": {},
   "outputs": [
    {
     "data": {
      "text/plain": [
       "9704"
      ]
     },
     "execution_count": 12,
     "metadata": {},
     "output_type": "execute_result"
    }
   ],
   "source": [
    "df.index.size"
   ]
  },
  {
   "cell_type": "code",
   "execution_count": 13,
   "id": "e21c7c9f-4185-484d-8e26-c51b1917f034",
   "metadata": {},
   "outputs": [
    {
     "data": {
      "text/plain": [
       "9704"
      ]
     },
     "execution_count": 13,
     "metadata": {},
     "output_type": "execute_result"
    }
   ],
   "source": [
    "df.shape[0]"
   ]
  },
  {
   "cell_type": "code",
   "execution_count": 14,
   "id": "f678722e-7aa7-4482-ad45-76314bfd5cb6",
   "metadata": {},
   "outputs": [
    {
     "data": {
      "text/plain": [
       "(9704, 11)"
      ]
     },
     "execution_count": 14,
     "metadata": {},
     "output_type": "execute_result"
    }
   ],
   "source": [
    "df.shape"
   ]
  },
  {
   "cell_type": "code",
   "execution_count": 27,
   "id": "c5ee12fc-2e83-4285-9407-de2b5ee65b4d",
   "metadata": {},
   "outputs": [
    {
     "data": {
      "text/plain": [
       "array(['Gasoline', 'Diesel'], dtype=object)"
      ]
     },
     "execution_count": 27,
     "metadata": {},
     "output_type": "execute_result"
    }
   ],
   "source": [
    "# two types of fuel \n",
    "df['fuel_type'].unique()"
   ]
  },
  {
   "cell_type": "code",
   "execution_count": 26,
   "id": "7bda656b-3cbc-416c-978d-f4b1b1ac9f13",
   "metadata": {},
   "outputs": [
    {
     "data": {
      "text/plain": [
       "engine_displacement      0\n",
       "num_cylinders          482\n",
       "horsepower             708\n",
       "vehicle_weight           0\n",
       "acceleration           930\n",
       "model_year               0\n",
       "origin                   0\n",
       "fuel_type                0\n",
       "drivetrain               0\n",
       "num_doors              502\n",
       "fuel_efficiency_mpg      0\n",
       "dtype: int64"
      ]
     },
     "execution_count": 26,
     "metadata": {},
     "output_type": "execute_result"
    }
   ],
   "source": [
    "# 4 columns with missing values\n",
    "df.isnull().sum()"
   ]
  },
  {
   "cell_type": "code",
   "execution_count": 28,
   "id": "b613a76d-4494-43c1-aa74-30620f73b05e",
   "metadata": {},
   "outputs": [
    {
     "data": {
      "text/plain": [
       "array(['Europe', 'USA', 'Asia'], dtype=object)"
      ]
     },
     "execution_count": 28,
     "metadata": {},
     "output_type": "execute_result"
    }
   ],
   "source": [
    "df['origin'].unique()"
   ]
  },
  {
   "cell_type": "code",
   "execution_count": 31,
   "id": "6a1dc12e-0e9c-441c-ae3b-ca8fe566d3a1",
   "metadata": {},
   "outputs": [
    {
     "data": {
      "text/html": [
       "<div>\n",
       "<style scoped>\n",
       "    .dataframe tbody tr th:only-of-type {\n",
       "        vertical-align: middle;\n",
       "    }\n",
       "\n",
       "    .dataframe tbody tr th {\n",
       "        vertical-align: top;\n",
       "    }\n",
       "\n",
       "    .dataframe thead th {\n",
       "        text-align: right;\n",
       "    }\n",
       "</style>\n",
       "<table border=\"1\" class=\"dataframe\">\n",
       "  <thead>\n",
       "    <tr style=\"text-align: right;\">\n",
       "      <th></th>\n",
       "      <th>engine_displacement</th>\n",
       "      <th>num_cylinders</th>\n",
       "      <th>horsepower</th>\n",
       "      <th>vehicle_weight</th>\n",
       "      <th>acceleration</th>\n",
       "      <th>model_year</th>\n",
       "      <th>num_doors</th>\n",
       "      <th>fuel_efficiency_mpg</th>\n",
       "    </tr>\n",
       "    <tr>\n",
       "      <th>origin</th>\n",
       "      <th></th>\n",
       "      <th></th>\n",
       "      <th></th>\n",
       "      <th></th>\n",
       "      <th></th>\n",
       "      <th></th>\n",
       "      <th></th>\n",
       "      <th></th>\n",
       "    </tr>\n",
       "  </thead>\n",
       "  <tbody>\n",
       "    <tr>\n",
       "      <th>Asia</th>\n",
       "      <td>370</td>\n",
       "      <td>11.0</td>\n",
       "      <td>245.0</td>\n",
       "      <td>4661.14</td>\n",
       "      <td>22.7</td>\n",
       "      <td>2023</td>\n",
       "      <td>4.0</td>\n",
       "      <td>23.76</td>\n",
       "    </tr>\n",
       "    <tr>\n",
       "      <th>Europe</th>\n",
       "      <td>380</td>\n",
       "      <td>13.0</td>\n",
       "      <td>271.0</td>\n",
       "      <td>4726.98</td>\n",
       "      <td>23.5</td>\n",
       "      <td>2023</td>\n",
       "      <td>3.0</td>\n",
       "      <td>25.97</td>\n",
       "    </tr>\n",
       "    <tr>\n",
       "      <th>USA</th>\n",
       "      <td>380</td>\n",
       "      <td>13.0</td>\n",
       "      <td>252.0</td>\n",
       "      <td>4739.08</td>\n",
       "      <td>24.3</td>\n",
       "      <td>2023</td>\n",
       "      <td>3.0</td>\n",
       "      <td>24.97</td>\n",
       "    </tr>\n",
       "  </tbody>\n",
       "</table>\n",
       "</div>"
      ],
      "text/plain": [
       "        engine_displacement  num_cylinders  horsepower  vehicle_weight  \\\n",
       "origin                                                                   \n",
       "Asia                    370           11.0       245.0         4661.14   \n",
       "Europe                  380           13.0       271.0         4726.98   \n",
       "USA                     380           13.0       252.0         4739.08   \n",
       "\n",
       "        acceleration  model_year  num_doors  fuel_efficiency_mpg  \n",
       "origin                                                            \n",
       "Asia            22.7        2023        4.0                23.76  \n",
       "Europe          23.5        2023        3.0                25.97  \n",
       "USA             24.3        2023        3.0                24.97  "
      ]
     },
     "execution_count": 31,
     "metadata": {},
     "output_type": "execute_result"
    }
   ],
   "source": [
    "# the maximum fuel efficiency of cars from Asia: 23.76\n",
    "df.groupby('origin').max('fuel_efficiency_mpg').round(2)"
   ]
  },
  {
   "cell_type": "code",
   "execution_count": 46,
   "id": "301e6a3f-72f8-422f-80ee-66fbb36a2055",
   "metadata": {},
   "outputs": [
    {
     "name": "stdout",
     "output_type": "stream",
     "text": [
      "the median value of horsepower: 149.66\n",
      "the most frequent value of horsepower: 152.0\n"
     ]
    }
   ],
   "source": [
    "# the median value of horsepower\n",
    "print(\"the median value of horsepower:\",df['horsepower'].mean().round(2))\n",
    "\n",
    "print(\"the most frequent value of horsepower:\", df['horsepower'].value_counts().idxmax())"
   ]
  },
  {
   "cell_type": "code",
   "execution_count": 4,
   "id": "fd824094-7fd7-4e5e-88ae-d9d4c23ce1d3",
   "metadata": {},
   "outputs": [
    {
     "data": {
      "text/plain": [
       "engine_displacement    9704\n",
       "num_cylinders          9222\n",
       "horsepower             8996\n",
       "vehicle_weight         9704\n",
       "acceleration           8774\n",
       "model_year             9704\n",
       "origin                 9704\n",
       "fuel_type              9704\n",
       "drivetrain             9704\n",
       "num_doors              9202\n",
       "fuel_efficiency_mpg    9704\n",
       "dtype: int64"
      ]
     },
     "execution_count": 4,
     "metadata": {},
     "output_type": "execute_result"
    }
   ],
   "source": [
    "df.count()"
   ]
  },
  {
   "cell_type": "code",
   "execution_count": 6,
   "id": "aa302f76-cbe8-4af3-8f83-5056c47d9b09",
   "metadata": {},
   "outputs": [],
   "source": [
    "import numpy as np"
   ]
  },
  {
   "cell_type": "code",
   "execution_count": 7,
   "id": "353184bd-da95-4fff-88f6-a81142fc30e3",
   "metadata": {},
   "outputs": [
    {
     "name": "stdout",
     "output_type": "stream",
     "text": [
      "2.3.1\n"
     ]
    }
   ],
   "source": [
    "print(np.__version__)"
   ]
  },
  {
   "cell_type": "code",
   "execution_count": 22,
   "id": "742c7f9a-2aa4-4402-b736-6a0e39449b23",
   "metadata": {},
   "outputs": [
    {
     "name": "stdout",
     "output_type": "stream",
     "text": [
      "(3, 4)\n",
      "(4,)\n",
      "(4, 3)\n"
     ]
    }
   ],
   "source": [
    "u = np.array([[1, 2, 3, 4],\n",
    "              [6, 5, 4, 7],\n",
    "              [9, 12, 14, 15]])\n",
    "v = np.array([1, 2, 3, 4])\n",
    "\n",
    "m = np.array([[1, 2, 3],\n",
    "              [6, 5, 4],\n",
    "              [9, 12, 14],\n",
    "              [7, 5, 5]])\n",
    "\n",
    "print(u.shape)\n",
    "print(v.shape)\n",
    "print(m.shape)"
   ]
  },
  {
   "cell_type": "code",
   "execution_count": 50,
   "id": "13d020b7-db27-43df-85e5-ba6e03c5c7fe",
   "metadata": {},
   "outputs": [],
   "source": [
    "def vector_vector_multiplication(u, v):\n",
    "    assert u.shape[0] == v.shape[0]\n",
    "    \n",
    "    n = u.shape[0]\n",
    "    \n",
    "    result = 0.0\n",
    "\n",
    "    for i in range(n):\n",
    "        result = result + u[i] * v[i]\n",
    "    \n",
    "    return result\n",
    "    \n",
    "def matrix_vector_mult(u, v):\n",
    "    assert u.shape[1] == v.shape[0]\n",
    "    \n",
    "    rows_no = u.shape[0]\n",
    "\n",
    "    result = np.zeros(rows_no)\n",
    "    \n",
    "    for i in range(rows_no):\n",
    "        result[i] = vector_vector_multiplication(u[i], v)\n",
    "\n",
    "    return result\n",
    "\n",
    "\n",
    "def matrix_matrix_mult(u, m):\n",
    "    assert u.shape[1] == m.shape[0],\"no_rows != no_cols\"\n",
    "    \n",
    "    rows_no = u.shape[0]\n",
    "    cols_no = m.shape[1]\n",
    "\n",
    "    result = np.zeros([rows_no, cols_no])\n",
    "    \n",
    "    for i in range(rows_no):\n",
    "        for j in range(cols_no):\n",
    "            # result[i, j] = np.vstack([result[i, j], vector_vector_multiplication(u[i], m[:, i])])\n",
    "            result[i, j] = vector_vector_multiplication(u[i], m[:, j])\n",
    "    return result"
   ]
  },
  {
   "cell_type": "code",
   "execution_count": 17,
   "id": "3ef23081-ba71-4573-93ab-51664deef844",
   "metadata": {},
   "outputs": [
    {
     "data": {
      "text/plain": [
       "array([ 30.,  56., 135.])"
      ]
     },
     "execution_count": 17,
     "metadata": {},
     "output_type": "execute_result"
    }
   ],
   "source": [
    "matrix_vector_mult(u, v)"
   ]
  },
  {
   "cell_type": "code",
   "execution_count": 19,
   "id": "4ad121f1-1637-41a4-9b12-a986709bda26",
   "metadata": {},
   "outputs": [
    {
     "data": {
      "text/plain": [
       "array([ 30,  56, 135])"
      ]
     },
     "execution_count": 19,
     "metadata": {},
     "output_type": "execute_result"
    }
   ],
   "source": [
    "u.dot(v)"
   ]
  },
  {
   "cell_type": "code",
   "execution_count": 51,
   "id": "6aa2985f-1ce0-4003-9b15-6fc80cae317b",
   "metadata": {},
   "outputs": [
    {
     "data": {
      "text/plain": [
       "array([[ 68.,  68.,  73.],\n",
       "       [121., 120., 129.],\n",
       "       [312., 321., 346.]])"
      ]
     },
     "execution_count": 51,
     "metadata": {},
     "output_type": "execute_result"
    }
   ],
   "source": [
    "matrix_matrix_mult(u, m)"
   ]
  },
  {
   "cell_type": "code",
   "execution_count": 32,
   "id": "b1ba2a68-8b2b-47a6-b135-dcbe20bbee22",
   "metadata": {},
   "outputs": [
    {
     "data": {
      "text/plain": [
       "array([[ 68,  68,  73],\n",
       "       [121, 120, 129],\n",
       "       [312, 321, 346]])"
      ]
     },
     "execution_count": 32,
     "metadata": {},
     "output_type": "execute_result"
    }
   ],
   "source": [
    "u.dot(m)"
   ]
  },
  {
   "cell_type": "code",
   "execution_count": 42,
   "id": "9a24d65b-431c-4801-804c-a0711e527d39",
   "metadata": {},
   "outputs": [],
   "source": [
    "arr = np.zeros([2, 2])"
   ]
  },
  {
   "cell_type": "code",
   "execution_count": 43,
   "id": "9ee296fc-560b-40ba-8b20-595516bb472e",
   "metadata": {},
   "outputs": [
    {
     "data": {
      "text/plain": [
       "array([[0., 0.],\n",
       "       [0., 0.]])"
      ]
     },
     "execution_count": 43,
     "metadata": {},
     "output_type": "execute_result"
    }
   ],
   "source": [
    "arr"
   ]
  },
  {
   "cell_type": "code",
   "execution_count": null,
   "id": "382c2331-4751-4704-946f-f9437d76484e",
   "metadata": {},
   "outputs": [],
   "source": []
  }
 ],
 "metadata": {
  "kernelspec": {
   "display_name": "Python 3 (ipykernel)",
   "language": "python",
   "name": "python3"
  },
  "language_info": {
   "codemirror_mode": {
    "name": "ipython",
    "version": 3
   },
   "file_extension": ".py",
   "mimetype": "text/x-python",
   "name": "python",
   "nbconvert_exporter": "python",
   "pygments_lexer": "ipython3",
   "version": "3.12.1"
  }
 },
 "nbformat": 4,
 "nbformat_minor": 5
}
